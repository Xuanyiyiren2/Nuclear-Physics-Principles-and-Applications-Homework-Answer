{
 "cells": [
  {
   "cell_type": "markdown",
   "metadata": {},
   "source": [
    "# Use python to do calculations with units\n",
    "\n",
    "I learned this library from [Prof Ting's online class](https://www.bilibili.com/video/BV1oc411675V/?spm_id_from=333.1007.top_right_bar_window_history.content.click)\n",
    "\n",
    "Here are some useful referance\n",
    "- https://docs.astropy.org/en/stable/units/index.html"
   ]
  },
  {
   "cell_type": "markdown",
   "metadata": {},
   "source": [
    "`astropy` is a strong package for astronomy. The following may not be it's main usage.\n",
    "\n",
    "`astropy.units` can help us to do calculations with units. `astropy.constants` stored some usful physical constants."
   ]
  },
  {
   "cell_type": "code",
   "execution_count": 1,
   "metadata": {},
   "outputs": [],
   "source": [
    "import astropy.units as units\n",
    "import astropy.constants as const\n",
    "from numpy import pi\n",
    "from math import e"
   ]
  },
  {
   "cell_type": "markdown",
   "metadata": {},
   "source": [
    "For physical constant, `astropy.constants` stored their name,value,uncertainty and unit."
   ]
  },
  {
   "cell_type": "code",
   "execution_count": 2,
   "metadata": {},
   "outputs": [
    {
     "name": "stdout",
     "output_type": "stream",
     "text": [
      "  Name   = Gravitational constant\n",
      "  Value  = 6.6743e-11\n",
      "  Uncertainty  = 1.5e-15\n",
      "  Unit  = m3 / (kg s2)\n",
      "  Reference = CODATA 2018\n",
      "\n",
      "  Name   = Reduced Planck constant\n",
      "  Value  = 1.0545718176461565e-34\n",
      "  Uncertainty  = 0.0\n",
      "  Unit  = J s\n",
      "  Reference = CODATA 2018\n",
      "\n",
      "  Name   = Speed of light in vacuum\n",
      "  Value  = 299792458.0\n",
      "  Uncertainty  = 0.0\n",
      "  Unit  = m / s\n",
      "  Reference = CODATA 2018\n"
     ]
    }
   ],
   "source": [
    "print(const.G)\n",
    "print()\n",
    "print(const.hbar)\n",
    "print()\n",
    "print(const.c)"
   ]
  },
  {
   "cell_type": "markdown",
   "metadata": {},
   "source": [
    "We chan combination units and do unit transform by `astropy`"
   ]
  },
  {
   "cell_type": "code",
   "execution_count": 3,
   "metadata": {},
   "outputs": [
    {
     "data": {
      "text/latex": [
       "$931.4941 \\; \\mathrm{MeV}$"
      ],
      "text/plain": [
       "<Quantity 931.49410242 MeV>"
      ]
     },
     "execution_count": 3,
     "metadata": {},
     "output_type": "execute_result"
    }
   ],
   "source": [
    "# The nucleon mass in MeV\n",
    "(1*units.u*const.c**2).to('MeV')"
   ]
  },
  {
   "cell_type": "code",
   "execution_count": 90,
   "metadata": {},
   "outputs": [
    {
     "data": {
      "text/latex": [
       "$1 \\times 10^{24} \\; \\mathrm{barn}$"
      ],
      "text/plain": [
       "<Quantity 1.e+24 barn>"
      ]
     },
     "execution_count": 90,
     "metadata": {},
     "output_type": "execute_result"
    }
   ],
   "source": [
    "# The relationship between cm^2 and barn\n",
    "(1*(units.cm)**2).to(units.barn)"
   ]
  },
  {
   "cell_type": "markdown",
   "metadata": {},
   "source": [
    "# Here I use it to finish some exercise in my homework in Nuclear Physics Course"
   ]
  },
  {
   "cell_type": "markdown",
   "metadata": {},
   "source": [
    "#### From HW1\n",
    "\n",
    "use it to calculate the density of nuclei.\n",
    "\n",
    "We use the Empirical formula for nuclear radius, the radiu $r$ of a mass with mass number $A$\n",
    "$$\n",
    "r = A^{1/3}\\,\\mathrm{fm}\n",
    "$$\n",
    "Thus the density is \n",
    "$$\n",
    "\\rho = \\frac{m}{V} = \\frac{{A\\,\\mathrm{u}}}{4\\pi r^3/3}\n",
    "$$"
   ]
  },
  {
   "cell_type": "code",
   "execution_count": 5,
   "metadata": {},
   "outputs": [
    {
     "data": {
      "text/latex": [
       "$2.2941233 \\times 10^{17} \\; \\mathrm{\\frac{kg}{m^{3}}}$"
      ],
      "text/plain": [
       "<Quantity 2.29412327e+17 kg / m3>"
      ]
     },
     "execution_count": 5,
     "metadata": {},
     "output_type": "execute_result"
    }
   ],
   "source": [
    "(const.u/(4*pi*(1.2*units.fm)**3/3)).si"
   ]
  },
  {
   "cell_type": "markdown",
   "metadata": {},
   "source": [
    "#### HW2-Q2\n",
    "The total cross section for the reaction $^{59}\\mathrm{Co} (n, \\gamma) ^{60}\\mathrm{Co}$ reaction is $37\\,\\mathrm{b}$. Calculate the mass of $^{60}\\mathrm{Co}$ produced when $1\\,\\mathrm{kg}$ of $^{59}\\mathrm{Co}$ metal is irradiated for 24 hours in a nuclear reactor where the neutron flux is $10^{15}$ neutron per square centimeter per second. Neglect the decay of $^{60}\\mathrm{Co}$ in your calculation."
   ]
  },
  {
   "cell_type": "markdown",
   "metadata": {},
   "source": [
    "##### Answer\n",
    "The total cross section $\\sigma=37\\,\\mathrm{b}$ , and the flux is $F=10^{15}\\,\\mathrm{s^{-1}cm^{-2}}$ .The number of $^{59}\\mathrm{Co}$ is \n",
    "$$\n",
    "N=\\frac{m}{m_{^{59}\\mathrm{Co}}} = \\frac{1\\,\\mathrm{kg}}{59\\,\\mathrm{u}} = 1.02\\times 10^{25}\n",
    "$$\n",
    "In which $m_{^{59}\\mathrm{Co}}$ is the mass of $^{59}\\mathrm{Co}$"
   ]
  },
  {
   "cell_type": "code",
   "execution_count": 7,
   "metadata": {},
   "outputs": [
    {
     "data": {
      "text/latex": [
       "$1.0207018 \\times 10^{25} \\; \\mathrm{}$"
      ],
      "text/plain": [
       "<Quantity 1.02070182e+25>"
      ]
     },
     "execution_count": 7,
     "metadata": {},
     "output_type": "execute_result"
    }
   ],
   "source": [
    "N_59Co = (1*units.kg/(59*units.u)).si\n",
    "N_59Co"
   ]
  },
  {
   "cell_type": "markdown",
   "metadata": {},
   "source": [
    "Thus the reaction rate is\n",
    "$$\n",
    "R = NF\\sigma = 3.26\\times 10^{22}\\,\\mathrm{d^{-1}}\n",
    "$$"
   ]
  },
  {
   "cell_type": "code",
   "execution_count": 58,
   "metadata": {},
   "outputs": [
    {
     "data": {
      "text/latex": [
       "$3.7765967 \\times 10^{17} \\; \\mathrm{\\frac{1}{s}}$"
      ],
      "text/plain": [
       "<Quantity 3.77659675e+17 1 / s>"
      ]
     },
     "metadata": {},
     "output_type": "display_data"
    },
    {
     "data": {
      "text/latex": [
       "$3.2629796 \\times 10^{22} \\; \\mathrm{\\frac{1}{d}}$"
      ],
      "text/plain": [
       "<Quantity 3.26297959e+22 1 / d>"
      ]
     },
     "metadata": {},
     "output_type": "display_data"
    }
   ],
   "source": [
    "F = 10**15*units.s**(-1)*units.cm**(-2)\n",
    "sigma = 37*units.barn\n",
    "\n",
    "R = N_59Co*F*sigma\n",
    "R=R.si\n",
    "display(R)\n",
    "display((R.si).to(units.d**-1))"
   ]
  },
  {
   "cell_type": "markdown",
   "metadata": {},
   "source": [
    "As for the total time is $T=24\\,\\mathrm{h}=1\\mathrm{d}$ , the total number of $^{60}\\mathrm{Co}$ \n",
    "$$\n",
    "N_{^{60}\\mathrm{Co}}=R\\cdot T=3.26\\times 10^{22}\\\\\n",
    "m_{^{60}\\mathrm{Co}}=N_{^{60}\\mathrm{Co}}\\cdot 60\\,\\mathrm{u}=3.25\\,\\mathrm{g}\n",
    "$$"
   ]
  },
  {
   "cell_type": "code",
   "execution_count": 80,
   "metadata": {},
   "outputs": [
    {
     "data": {
      "text/latex": [
       "$3.2629796 \\times 10^{22} \\; \\mathrm{}$"
      ],
      "text/plain": [
       "<Quantity 3.26297959e+22>"
      ]
     },
     "metadata": {},
     "output_type": "display_data"
    },
    {
     "data": {
      "text/latex": [
       "$3.2509831 \\; \\mathrm{g}$"
      ],
      "text/plain": [
       "<Quantity 3.25098305 g>"
      ]
     },
     "metadata": {},
     "output_type": "display_data"
    }
   ],
   "source": [
    "N_60Co = (R*units.d).si\n",
    "display(N_60Co)\n",
    "M_60Co = N_60Co * 60*units.u\n",
    "display(M_60Co.to('g'))"
   ]
  },
  {
   "cell_type": "markdown",
   "metadata": {},
   "source": [
    "###### Other things\n",
    "\n",
    "Due to the astropy.units do not have prefixes before $\\mathrm{Ci}$, such as $\\mathrm{mCi}$, we can define it ourselves."
   ]
  },
  {
   "cell_type": "code",
   "execution_count": 59,
   "metadata": {},
   "outputs": [
    {
     "data": {
      "text/latex": [
       "$10.207018 \\; \\mathrm{MCi}$"
      ],
      "text/plain": [
       "<Quantity 10.20701824 MCi>"
      ]
     },
     "execution_count": 59,
     "metadata": {},
     "output_type": "execute_result"
    }
   ],
   "source": [
    "MCi = units.def_unit('MCi', 1e6*units.Ci)\n",
    "R.to(MCi)"
   ]
  },
  {
   "cell_type": "markdown",
   "metadata": {},
   "source": [
    "#### HW2-Q3\n",
    "Is the reaction $^{14}\\mathrm{N} + ^4\\mathrm{He} \\to ^{17}\\mathrm{O} + ^1\\mathrm{H}$ endothermic or exothermic? How much energy is absorbed or released in the reaction? \n",
    "\n",
    "Masses: \n",
    "$$\n",
    "\\mathrm{H}, 1.007825; n, 1.008665; \\mathrm{He}, 4.00260; ^{14}\\mathrm{N}, 14.00307; ^{17}\\mathrm{O}, 16.99914.\n",
    "$$"
   ]
  },
  {
   "cell_type": "markdown",
   "metadata": {},
   "source": [
    "##### Answer\n",
    "\n",
    "$$\n",
    "\\Delta m=m_{^1\\mathrm{H}}+m_{^{17}\\mathrm{O}}-(m_{^{14}\\mathrm{N}}+m_{^4\\mathrm{He}})=1.30\\times 10^{-3}\\,\\mathrm{u}\n",
    "$$\n",
    "\n",
    "Thus \n",
    "$$\n",
    "\\Delta E =\\Delta m c^2=1.21\\,\\mathrm{MeV}\n",
    "$$\n",
    "This is a exothermic reaction. It absorbed $1.21\\,\\mathrm{MeV}$ of energy."
   ]
  },
  {
   "cell_type": "code",
   "execution_count": 8,
   "metadata": {},
   "outputs": [
    {
     "data": {
      "text/latex": [
       "$1.2062849 \\; \\mathrm{MeV}$"
      ],
      "text/plain": [
       "<Quantity 1.20628486 MeV>"
      ]
     },
     "execution_count": 8,
     "metadata": {},
     "output_type": "execute_result"
    }
   ],
   "source": [
    "m_H=1.007825\n",
    "m_n=1.008665\n",
    "m_He=4.00260\n",
    "m_14N=14.00307\n",
    "m_17O=16.99914\n",
    "\n",
    "Delta_m=m_H+m_17O-(m_14N+m_He)\n",
    "Delta_m = Delta_m*units.u\n",
    "Delta_E=Delta_m*const.c**2\n",
    "Delta_E.si.to('MeV')"
   ]
  }
 ],
 "metadata": {
  "kernelspec": {
   "display_name": "base",
   "language": "python",
   "name": "python3"
  },
  "language_info": {
   "codemirror_mode": {
    "name": "ipython",
    "version": 3
   },
   "file_extension": ".py",
   "mimetype": "text/x-python",
   "name": "python",
   "nbconvert_exporter": "python",
   "pygments_lexer": "ipython3",
   "version": "3.9.18"
  }
 },
 "nbformat": 4,
 "nbformat_minor": 2
}
