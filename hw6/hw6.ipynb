{
 "cells": [
  {
   "cell_type": "code",
   "execution_count": 1,
   "metadata": {},
   "outputs": [],
   "source": [
    "import astropy.units as u\n",
    "import astropy.constants as const\n",
    "import numpy as np\n",
    "\n",
    "# Use to obtain data\n",
    "import pandas as pd\n",
    "import urllib\n",
    "# the service URL\n",
    "livechart = \"https://nds.iaea.org/relnsd/v1/data?\"\n",
    "\n",
    "# There have been cases in which the service returns an HTTP Error 403: Forbidden\n",
    "# use this workaround\n",
    "import urllib.request\n",
    "def lc_pd_dataframe(url):\n",
    "    req = urllib.request.Request(url)\n",
    "    req.add_header('User-Agent', 'Mozilla/5.0 (X11; Ubuntu; Linux x86_64; rv:77.0) Gecko/20100101 Firefox/77.0')\n",
    "    return pd.read_csv(urllib.request.urlopen(req))"
   ]
  },
  {
   "cell_type": "markdown",
   "metadata": {},
   "source": [
    "## Quesiton 1\n",
    "\n",
    "Assume $\\rm^{235}U$ splits into two stable nuclides $\\rm^{100}Ru$, $\\rm^{132}Xe$, and three neutrons. About 86\\% of the energy is in the kinetic energy of the fission fragments. A fully enriched $\\rm^{235}U$ bomb is expected to give a prompt explosive yield of about $20\\,\\rm{kg}$ of TNT. How many kilograms of $\\rm^{235}U$ are required (assuming the actual explosive yield efficiency is around 30\\%)?"
   ]
  },
  {
   "cell_type": "markdown",
   "metadata": {},
   "source": [
    "### Answer\n",
    "\n",
    "The energy of this reaction have been calculated in the previous question. I copied the result here.\n",
    "\n",
    "$$\n",
    "\\Delta E = 192\\,{\\rm MeV}\n",
    "$$"
   ]
  },
  {
   "cell_type": "code",
   "execution_count": 3,
   "metadata": {},
   "outputs": [
    {
     "data": {
      "text/latex": [
       "$165.24487 \\; \\mathrm{MeV}$"
      ],
      "text/plain": [
       "<Quantity 165.24487211 MeV>"
      ]
     },
     "execution_count": 3,
     "metadata": {},
     "output_type": "execute_result"
    }
   ],
   "source": [
    "m_235U = lc_pd_dataframe(livechart+\"fields=ground_states&nuclides=235U\")['atomic_mass'][0]*1e-6*u.u\n",
    "m_100Ru = lc_pd_dataframe(livechart+\"fields=ground_states&nuclides=100Ru\")['atomic_mass'][0]*1e-6*u.u\n",
    "m_132Xe = lc_pd_dataframe(livechart+\"fields=ground_states&nuclides=132Xe\")['atomic_mass'][0]*1e-6*u.u\n",
    "m_n = lc_pd_dataframe(livechart+\"fields=ground_states&nuclides=1n\")['atomic_mass'][0]*1e-6*u.u\n",
    "m_e = (const.m_e).to('u')\n",
    "Delta_m = m_235U - (6*m_e + 3*m_n + m_100Ru + m_132Xe)\n",
    "Delta_E = (Delta_m*const.c**2).to(\"MeV\")\n",
    "Delta_Ep = Delta_E*0.86\n",
    "Delta_Ep"
   ]
  },
  {
   "cell_type": "markdown",
   "metadata": {},
   "source": [
    "And the energy convert to explosion $\\Delta E' = 0.86\\Delta E = 165\\,{\\rm MeV}$.\n",
    "\n",
    "Accoriding to Wikipedia, a ton of TNT can release about 4.184 gigajoules. So, the energy of explosion of $20\\,{\\rm kg}$ is $E_0$ where\n",
    "\n",
    "$$\n",
    "E_0 = 4.184\\,{\\rm GJ} \\cdot \\frac{20\\,{\\rm kg}}{1\\,{\\rm t}}\n",
    "$$\n",
    "$$"
   ]
  },
  {
   "cell_type": "code",
   "execution_count": 14,
   "metadata": {},
   "outputs": [
    {
     "data": {
      "text/latex": [
       "$83.68 \\; \\mathrm{MJ}$"
      ],
      "text/plain": [
       "<Quantity 83.68 MJ>"
      ]
     },
     "execution_count": 14,
     "metadata": {},
     "output_type": "execute_result"
    }
   ],
   "source": [
    "E0 = (4.184*u.GJ*20*u.kg/u.t).to('MJ')\n",
    "E0"
   ]
  },
  {
   "cell_type": "markdown",
   "metadata": {},
   "source": [
    "Thus $E_0 = 83.68\\,{\\rm MJ}$.\n",
    "\n",
    "The number of $\\rm ^{235}U$ required is $N = E_0/{\\Delta E'}$."
   ]
  },
  {
   "cell_type": "code",
   "execution_count": 18,
   "metadata": {},
   "outputs": [
    {
     "data": {
      "text/latex": [
       "$3.1607001 \\times 10^{18} \\; \\mathrm{}$"
      ],
      "text/plain": [
       "<Quantity 3.16070007e+18>"
      ]
     },
     "execution_count": 18,
     "metadata": {},
     "output_type": "execute_result"
    }
   ],
   "source": [
    "N = (E0/Delta_Ep).si\n",
    "N"
   ]
  },
  {
   "cell_type": "markdown",
   "metadata": {},
   "source": [
    "So $N =3.16\\times 10^{18}$. The mass of $\\rm ^{235}U$ is\n",
    "\n",
    "$$\n",
    "m = N\\cdot m_{\\rm ^{235}U}\n",
    "$$"
   ]
  },
  {
   "cell_type": "code",
   "execution_count": 22,
   "metadata": {},
   "outputs": [
    {
     "data": {
      "text/latex": [
       "$1.2336201 \\; \\mathrm{mg}$"
      ],
      "text/plain": [
       "<Quantity 1.23362005 mg>"
      ]
     },
     "execution_count": 22,
     "metadata": {},
     "output_type": "execute_result"
    }
   ],
   "source": [
    "m = (N*m_235U).to('mg')\n",
    "m"
   ]
  },
  {
   "cell_type": "markdown",
   "metadata": {},
   "source": [
    "So the mass of $\\rm ^{235}U$ is $1.23\\,{\\rm mg}$."
   ]
  },
  {
   "cell_type": "markdown",
   "metadata": {},
   "source": [
    "## Question 2\n",
    "\n",
    "Describe two methods used for separating 235U from natural uranium."
   ]
  },
  {
   "cell_type": "markdown",
   "metadata": {},
   "source": [
    "### Answer\n",
    "\n",
    "Two methodologies are employed for isolating $\\rm ^{235}U$ from its natural form, each initiating with gaseous uranium hexafluoride as the primary substrate.\n",
    "\n",
    "1. **Gaseous Diffusion:** This process subjects the gas to a sequence of semipermeable membranes. Through thousands of membrane passages, the concentration of $^{235}$U incrementally escalates.\n",
    "\n",
    "2. **Centrifugation Technique:** Involves introducing the gas into ultracentrifuges, which rotate at an incredibly high pace—thousands of revolutions per minute. Similar to gaseous diffusion, repeated cycles lead to a stepwise augmentation in $\\rm ^{235}U$ concentration. \n",
    "\n",
    "Both techniques, albeit distinct in their operational mechanics, share the objective of progressively enriching $\\rm ^{235}U$ via iterative processes."
   ]
  },
  {
   "cell_type": "markdown",
   "metadata": {},
   "source": [
    "## Question 3\n",
    "\n",
    "What is the meaning of critical mass or critical size? How to roughly estimate the\n",
    "critical size of $\\rm ^{233}U$ bomb?"
   ]
  },
  {
   "cell_type": "markdown",
   "metadata": {},
   "source": [
    "### Answer\n",
    "\n",
    "Critical mass is the smallest amount of fissile material needed for a sustained nuclear\n",
    "chain reaction.\n",
    "Critical size is the least include enough fissionable material to reach critical mass.\n",
    "\n",
    "The fission cross section of $\\rm ^{233}U$ is $\\sigma_f = 1.9\\,{\\rm b}$. We know that the density of uranium is $19\\,{\\rm g/cm^3}$. Thus the mean free path is\n",
    "\n",
    "$$\n",
    "\\lambda  = \\frac 1{\\sigma_fN} = \\frac{m_{\\rm ^{233}U}}{\\sigma_f \\rho}\n",
    "$$\n"
   ]
  },
  {
   "cell_type": "code",
   "execution_count": 36,
   "metadata": {},
   "outputs": [
    {
     "data": {
      "text/latex": [
       "$0.10811624 \\; \\mathrm{m}$"
      ],
      "text/plain": [
       "<Quantity 0.10811624 m>"
      ]
     },
     "execution_count": 36,
     "metadata": {},
     "output_type": "execute_result"
    }
   ],
   "source": [
    "sigma_f= 1.9*u.barn\n",
    "rho = 19*u.g/(u.cm**3)\n",
    "\n",
    "lam = (m_235U/(sigma_f*rho)).si\n",
    "lam"
   ]
  },
  {
   "cell_type": "markdown",
   "metadata": {},
   "source": [
    "Thus the critical size is $R_c = \\lambda/2$ and the critical mass is $m_c = \\frac{4\\pi R_c^3}3 \\rho$."
   ]
  },
  {
   "cell_type": "code",
   "execution_count": 38,
   "metadata": {},
   "outputs": [
    {
     "data": {
      "text/latex": [
       "$0.05405812 \\; \\mathrm{m}$"
      ],
      "text/plain": [
       "<Quantity 0.05405812 m>"
      ]
     },
     "metadata": {},
     "output_type": "display_data"
    },
    {
     "data": {
      "text/latex": [
       "$12.572598 \\; \\mathrm{kg}$"
      ],
      "text/plain": [
       "<Quantity 12.57259771 kg>"
      ]
     },
     "execution_count": 38,
     "metadata": {},
     "output_type": "execute_result"
    }
   ],
   "source": [
    "R_c = lam/2\n",
    "display(R_c)\n",
    "m_c = (4*np.pi*R_c**3/3*rho).to(u.kg)\n",
    "m_c"
   ]
  },
  {
   "cell_type": "markdown",
   "metadata": {},
   "source": [
    "So the critical size is $0.05\\,{\\rm m}$ and the critical mass is $12.6\\,{\\rm kg}$."
   ]
  }
 ],
 "metadata": {
  "kernelspec": {
   "display_name": "nuclei",
   "language": "python",
   "name": "python3"
  },
  "language_info": {
   "codemirror_mode": {
    "name": "ipython",
    "version": 3
   },
   "file_extension": ".py",
   "mimetype": "text/x-python",
   "name": "python",
   "nbconvert_exporter": "python",
   "pygments_lexer": "ipython3",
   "version": "3.12.2"
  }
 },
 "nbformat": 4,
 "nbformat_minor": 2
}
