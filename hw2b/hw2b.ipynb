{
 "cells": [
  {
   "cell_type": "code",
   "execution_count": 84,
   "metadata": {},
   "outputs": [],
   "source": [
    "import periodictable as pt\n",
    "import astropy.units as u\n",
    "import astropy.constants as const\n",
    "import numpy as np"
   ]
  },
  {
   "cell_type": "markdown",
   "metadata": {},
   "source": [
    "### Q1"
   ]
  },
  {
   "cell_type": "code",
   "execution_count": 85,
   "metadata": {},
   "outputs": [
    {
     "data": {
      "text/latex": [
       "$1.001124 \\; \\mathrm{\\frac{1}{cm}}$"
      ],
      "text/plain": [
       "<Quantity 1.00112395 1 / cm>"
      ]
     },
     "metadata": {},
     "output_type": "display_data"
    },
    {
     "data": {
      "text/latex": [
       "$0.69236899 \\; \\mathrm{cm}$"
      ],
      "text/plain": [
       "<Quantity 0.69236899 cm>"
      ]
     },
     "metadata": {},
     "output_type": "display_data"
    },
    {
     "data": {
      "text/latex": [
       "$0.99887731 \\; \\mathrm{cm}$"
      ],
      "text/plain": [
       "<Quantity 0.99887731 cm>"
      ]
     },
     "metadata": {},
     "output_type": "display_data"
    }
   ],
   "source": [
    "x_1over10 = 2.3 * u.cm\n",
    "mu = np.log(10)/x_1over10\n",
    "display(mu)\n",
    "x_half = np.log10(2)*x_1over10\n",
    "display(x_half)\n",
    "mfp = x_1over10/np.log(10)\n",
    "display(mfp)"
   ]
  },
  {
   "cell_type": "markdown",
   "metadata": {},
   "source": [
    "### Q2"
   ]
  },
  {
   "cell_type": "code",
   "execution_count": 86,
   "metadata": {},
   "outputs": [
    {
     "data": {
      "text/plain": [
       "array([ 59,  59,  59, 236, 236])"
      ]
     },
     "execution_count": 86,
     "metadata": {},
     "output_type": "execute_result"
    }
   ],
   "source": [
    "mass = np.array([1,2,3,3,4])\n",
    "charge = np.array([1,1,1,2,2])\n",
    "\n",
    "Energy_loss0 = 59\n",
    "Energy_loss = charge**2 * Energy_loss0\n",
    "Energy_loss"
   ]
  },
  {
   "cell_type": "code",
   "execution_count": 87,
   "metadata": {},
   "outputs": [
    {
     "data": {
      "text/plain": [
       "array([50.        , 25.        , 16.66666667,  4.16666667,  3.125     ])"
      ]
     },
     "execution_count": 87,
     "metadata": {},
     "output_type": "execute_result"
    }
   ],
   "source": [
    "Range0 = 50\n",
    "\n",
    "Energy_rate = np.array([1,1/2,1/3,1/3,1/4])\n",
    "\n",
    "Range = Range0 / (Energy_loss/Energy_loss[0])*Energy_rate \n",
    "Range"
   ]
  },
  {
   "cell_type": "markdown",
   "metadata": {},
   "source": [
    "### Q3"
   ]
  },
  {
   "cell_type": "code",
   "execution_count": 88,
   "metadata": {},
   "outputs": [],
   "source": [
    "Pulse_gamma = 1e18 *(u.m)**(-2)\n",
    "energy = 100 * u.keV\n",
    "thick = 5 * u.mm\n",
    "density = 7870 *u.kg/(u.m**3)\n",
    "mu_mass = 0.04*u.m**2/u.kg\n",
    "heatcapacity = 1e6 *u.J*u.kg**-1*u.K**-1"
   ]
  },
  {
   "cell_type": "code",
   "execution_count": 89,
   "metadata": {},
   "outputs": [
    {
     "data": {
      "text/latex": [
       "$314.8 \\; \\mathrm{\\frac{1}{m}}$"
      ],
      "text/plain": [
       "<Quantity 314.8 1 / m>"
      ]
     },
     "execution_count": 89,
     "metadata": {},
     "output_type": "execute_result"
    }
   ],
   "source": [
    "# linear attenuation\n",
    "mu = mu_mass*density\n",
    "mu"
   ]
  },
  {
   "cell_type": "code",
   "execution_count": 90,
   "metadata": {},
   "outputs": [
    {
     "data": {
      "text/latex": [
       "$7.9278534 \\times 10^{17} \\; \\mathrm{\\frac{1}{m^{2}}}$"
      ],
      "text/plain": [
       "<Quantity 7.92785336e+17 1 / m2>"
      ]
     },
     "execution_count": 90,
     "metadata": {},
     "output_type": "execute_result"
    }
   ],
   "source": [
    "# Number of interacted gamma particles\n",
    "N_abs = Pulse_gamma*(1-np.exp(-(mu*thick).si))\n",
    "N_abs"
   ]
  },
  {
   "cell_type": "code",
   "execution_count": 91,
   "metadata": {},
   "outputs": [
    {
     "data": {
      "text/latex": [
       "$7.9278534 \\times 10^{19} \\; \\mathrm{\\frac{keV}{m^{2}}}$"
      ],
      "text/plain": [
       "<Quantity 7.92785336e+19 keV / m2>"
      ]
     },
     "execution_count": 91,
     "metadata": {},
     "output_type": "execute_result"
    }
   ],
   "source": [
    "# Energy absorbed\n",
    "ene_abs = N_abs*energy\n",
    "ene_abs"
   ]
  },
  {
   "cell_type": "code",
   "execution_count": 92,
   "metadata": {},
   "outputs": [
    {
     "data": {
      "text/latex": [
       "$39.35 \\; \\mathrm{kg}$"
      ],
      "text/plain": [
       "<Quantity 39.35 kg>"
      ]
     },
     "execution_count": 92,
     "metadata": {},
     "output_type": "execute_result"
    }
   ],
   "source": [
    "mass_slab = density*thick.si*1*u.m**2\n",
    "mass_slab"
   ]
  },
  {
   "cell_type": "code",
   "execution_count": 93,
   "metadata": {},
   "outputs": [
    {
     "name": "stdout",
     "output_type": "stream",
     "text": [
      "3.935000e+07\n"
     ]
    },
    {
     "data": {
      "text/latex": [
       "$39350000 \\; \\mathrm{\\frac{J}{K}}$"
      ],
      "text/plain": [
       "<Quantity 39350000. J / K>"
      ]
     },
     "execution_count": 93,
     "metadata": {},
     "output_type": "execute_result"
    }
   ],
   "source": [
    "heatCapacity = heatcapacity *mass_slab\n",
    "print(f'{heatCapacity.value:e}')\n",
    "heatCapacity"
   ]
  },
  {
   "cell_type": "code",
   "execution_count": 94,
   "metadata": {},
   "outputs": [
    {
     "name": "stdout",
     "output_type": "stream",
     "text": [
      "3.227909e-04\n"
     ]
    },
    {
     "data": {
      "text/latex": [
       "$0.00032279089 \\; \\mathrm{K}$"
      ],
      "text/plain": [
       "<Quantity 0.00032279 K>"
      ]
     },
     "execution_count": 94,
     "metadata": {},
     "output_type": "execute_result"
    }
   ],
   "source": [
    "Temp_inc = ene_abs* 1*u.m**2 / heatCapacity\n",
    "Temp_inc = Temp_inc.si\n",
    "print(f'{Temp_inc.value:e}')\n",
    "Temp_inc"
   ]
  },
  {
   "cell_type": "markdown",
   "metadata": {},
   "source": [
    "### Q4"
   ]
  },
  {
   "cell_type": "code",
   "execution_count": 95,
   "metadata": {},
   "outputs": [
    {
     "data": {
      "text/plain": [
       "(0.4780358009429998, 0.4307829160924542)"
      ]
     },
     "execution_count": 95,
     "metadata": {},
     "output_type": "execute_result"
    }
   ],
   "source": [
    "mu1t = - np.log(0.62)\n",
    "mu2t = - np.log(0.65)\n",
    "mu1t,mu2t"
   ]
  },
  {
   "cell_type": "code",
   "execution_count": 96,
   "metadata": {},
   "outputs": [
    {
     "data": {
      "text/plain": [
       "1.1096907121553636"
      ]
     },
     "execution_count": 96,
     "metadata": {},
     "output_type": "execute_result"
    }
   ],
   "source": [
    "r = mu1t/mu2t\n",
    "r"
   ]
  },
  {
   "cell_type": "code",
   "execution_count": 97,
   "metadata": {},
   "outputs": [
    {
     "data": {
      "text/plain": [
       "(0.3844, 0.42250000000000004)"
      ]
     },
     "execution_count": 97,
     "metadata": {},
     "output_type": "execute_result"
    }
   ],
   "source": [
    "per1_reduced =  np.exp(-2*mu1t)\n",
    "per2_reduced =  np.exp(-2*mu2t)\n",
    "per1_reduced,per2_reduced"
   ]
  }
 ],
 "metadata": {
  "kernelspec": {
   "display_name": "nuclei",
   "language": "python",
   "name": "python3"
  },
  "language_info": {
   "codemirror_mode": {
    "name": "ipython",
    "version": 3
   },
   "file_extension": ".py",
   "mimetype": "text/x-python",
   "name": "python",
   "nbconvert_exporter": "python",
   "pygments_lexer": "ipython3",
   "version": "3.12.2"
  }
 },
 "nbformat": 4,
 "nbformat_minor": 2
}
