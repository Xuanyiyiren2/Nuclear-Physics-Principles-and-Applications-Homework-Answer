{
 "cells": [
  {
   "cell_type": "code",
   "execution_count": 24,
   "metadata": {},
   "outputs": [],
   "source": [
    "import periodictable as pt\n",
    "import astropy.units as u\n",
    "import astropy.constants as const\n",
    "import numpy as np\n",
    "import pandas as pd"
   ]
  },
  {
   "cell_type": "markdown",
   "metadata": {},
   "source": [
    "### Q1"
   ]
  },
  {
   "cell_type": "code",
   "execution_count": 25,
   "metadata": {},
   "outputs": [
    {
     "data": {
      "text/latex": [
       "$1.001124 \\; \\mathrm{\\frac{1}{cm}}$"
      ],
      "text/plain": [
       "<Quantity 1.00112395 1 / cm>"
      ]
     },
     "metadata": {},
     "output_type": "display_data"
    },
    {
     "data": {
      "text/latex": [
       "$0.69236899 \\; \\mathrm{cm}$"
      ],
      "text/plain": [
       "<Quantity 0.69236899 cm>"
      ]
     },
     "metadata": {},
     "output_type": "display_data"
    },
    {
     "data": {
      "text/latex": [
       "$0.99887731 \\; \\mathrm{cm}$"
      ],
      "text/plain": [
       "<Quantity 0.99887731 cm>"
      ]
     },
     "metadata": {},
     "output_type": "display_data"
    }
   ],
   "source": [
    "x_1over10 = 2.3 * u.cm\n",
    "mu = np.log(10)/x_1over10\n",
    "display(mu)\n",
    "x_half = np.log10(2)*x_1over10\n",
    "display(x_half)\n",
    "mfp = x_1over10/np.log(10)\n",
    "display(mfp)"
   ]
  },
  {
   "cell_type": "markdown",
   "metadata": {},
   "source": [
    "### Q2"
   ]
  },
  {
   "cell_type": "code",
   "execution_count": 26,
   "metadata": {},
   "outputs": [
    {
     "data": {
      "text/html": [
       "<div>\n",
       "<style scoped>\n",
       "    .dataframe tbody tr th:only-of-type {\n",
       "        vertical-align: middle;\n",
       "    }\n",
       "\n",
       "    .dataframe tbody tr th {\n",
       "        vertical-align: top;\n",
       "    }\n",
       "\n",
       "    .dataframe thead th {\n",
       "        text-align: right;\n",
       "    }\n",
       "</style>\n",
       "<table border=\"1\" class=\"dataframe\">\n",
       "  <thead>\n",
       "    <tr style=\"text-align: right;\">\n",
       "      <th></th>\n",
       "      <th>Particle</th>\n",
       "    </tr>\n",
       "  </thead>\n",
       "  <tbody>\n",
       "    <tr>\n",
       "      <th>0</th>\n",
       "      <td>proton $p$</td>\n",
       "    </tr>\n",
       "    <tr>\n",
       "      <th>1</th>\n",
       "      <td>deutron $d$</td>\n",
       "    </tr>\n",
       "    <tr>\n",
       "      <th>2</th>\n",
       "      <td>tritons $t$</td>\n",
       "    </tr>\n",
       "    <tr>\n",
       "      <th>3</th>\n",
       "      <td>3-helium nuclei $\\ce{^3He}$</td>\n",
       "    </tr>\n",
       "    <tr>\n",
       "      <th>4</th>\n",
       "      <td>4-helium nuclei $\\ce{^4He},\\alpha$</td>\n",
       "    </tr>\n",
       "  </tbody>\n",
       "</table>\n",
       "</div>"
      ],
      "text/plain": [
       "                             Particle\n",
       "0                          proton $p$\n",
       "1                         deutron $d$\n",
       "2                         tritons $t$\n",
       "3         3-helium nuclei $\\ce{^3He}$\n",
       "4  4-helium nuclei $\\ce{^4He},\\alpha$"
      ]
     },
     "execution_count": 26,
     "metadata": {},
     "output_type": "execute_result"
    }
   ],
   "source": [
    "df = pd.DataFrame({'Particle':['proton $p$',\n",
    "                               'deutron $d$',\n",
    "                               'tritons $t$',\n",
    "                               r'3-helium nuclei $\\ce{^3He}$',\n",
    "                               r'4-helium nuclei $\\ce{^4He},\\alpha$']})\n",
    "df"
   ]
  },
  {
   "cell_type": "code",
   "execution_count": 27,
   "metadata": {},
   "outputs": [
    {
     "data": {
      "text/html": [
       "<div>\n",
       "<style scoped>\n",
       "    .dataframe tbody tr th:only-of-type {\n",
       "        vertical-align: middle;\n",
       "    }\n",
       "\n",
       "    .dataframe tbody tr th {\n",
       "        vertical-align: top;\n",
       "    }\n",
       "\n",
       "    .dataframe thead th {\n",
       "        text-align: right;\n",
       "    }\n",
       "</style>\n",
       "<table border=\"1\" class=\"dataframe\">\n",
       "  <thead>\n",
       "    <tr style=\"text-align: right;\">\n",
       "      <th></th>\n",
       "      <th>Particle</th>\n",
       "      <th>mass(u)</th>\n",
       "      <th>charge(e)</th>\n",
       "      <th>stopping power(SI)</th>\n",
       "    </tr>\n",
       "  </thead>\n",
       "  <tbody>\n",
       "    <tr>\n",
       "      <th>0</th>\n",
       "      <td>proton $p$</td>\n",
       "      <td>1</td>\n",
       "      <td>1</td>\n",
       "      <td>59</td>\n",
       "    </tr>\n",
       "    <tr>\n",
       "      <th>1</th>\n",
       "      <td>deutron $d$</td>\n",
       "      <td>2</td>\n",
       "      <td>1</td>\n",
       "      <td>59</td>\n",
       "    </tr>\n",
       "    <tr>\n",
       "      <th>2</th>\n",
       "      <td>tritons $t$</td>\n",
       "      <td>3</td>\n",
       "      <td>1</td>\n",
       "      <td>59</td>\n",
       "    </tr>\n",
       "    <tr>\n",
       "      <th>3</th>\n",
       "      <td>3-helium nuclei $\\ce{^3He}$</td>\n",
       "      <td>3</td>\n",
       "      <td>2</td>\n",
       "      <td>236</td>\n",
       "    </tr>\n",
       "    <tr>\n",
       "      <th>4</th>\n",
       "      <td>4-helium nuclei $\\ce{^4He},\\alpha$</td>\n",
       "      <td>4</td>\n",
       "      <td>2</td>\n",
       "      <td>236</td>\n",
       "    </tr>\n",
       "  </tbody>\n",
       "</table>\n",
       "</div>"
      ],
      "text/plain": [
       "                             Particle  mass(u)  charge(e)  stopping power(SI)\n",
       "0                          proton $p$        1          1                  59\n",
       "1                         deutron $d$        2          1                  59\n",
       "2                         tritons $t$        3          1                  59\n",
       "3         3-helium nuclei $\\ce{^3He}$        3          2                 236\n",
       "4  4-helium nuclei $\\ce{^4He},\\alpha$        4          2                 236"
      ]
     },
     "execution_count": 27,
     "metadata": {},
     "output_type": "execute_result"
    }
   ],
   "source": [
    "mass = np.array([1,2,3,3,4])\n",
    "df['mass(u)']=mass\n",
    "charge = np.array([1,1,1,2,2])\n",
    "df['charge(e)']=charge\n",
    "\n",
    "Energy_loss0 = 59\n",
    "Energy_loss = charge**2 * Energy_loss0\n",
    "df['stopping power(SI)']=Energy_loss\n",
    "df"
   ]
  },
  {
   "cell_type": "code",
   "execution_count": 28,
   "metadata": {},
   "outputs": [
    {
     "data": {
      "text/html": [
       "<div>\n",
       "<style scoped>\n",
       "    .dataframe tbody tr th:only-of-type {\n",
       "        vertical-align: middle;\n",
       "    }\n",
       "\n",
       "    .dataframe tbody tr th {\n",
       "        vertical-align: top;\n",
       "    }\n",
       "\n",
       "    .dataframe thead th {\n",
       "        text-align: right;\n",
       "    }\n",
       "</style>\n",
       "<table border=\"1\" class=\"dataframe\">\n",
       "  <thead>\n",
       "    <tr style=\"text-align: right;\">\n",
       "      <th></th>\n",
       "      <th>Particle</th>\n",
       "      <th>mass(u)</th>\n",
       "      <th>charge(e)</th>\n",
       "      <th>stopping power(SI)</th>\n",
       "      <th>relative energy</th>\n",
       "      <th>Range</th>\n",
       "    </tr>\n",
       "  </thead>\n",
       "  <tbody>\n",
       "    <tr>\n",
       "      <th>0</th>\n",
       "      <td>proton $p$</td>\n",
       "      <td>1</td>\n",
       "      <td>1</td>\n",
       "      <td>59</td>\n",
       "      <td>1</td>\n",
       "      <td>50.0</td>\n",
       "    </tr>\n",
       "    <tr>\n",
       "      <th>1</th>\n",
       "      <td>deutron $d$</td>\n",
       "      <td>2</td>\n",
       "      <td>1</td>\n",
       "      <td>59</td>\n",
       "      <td>2</td>\n",
       "      <td>100.0</td>\n",
       "    </tr>\n",
       "    <tr>\n",
       "      <th>2</th>\n",
       "      <td>tritons $t$</td>\n",
       "      <td>3</td>\n",
       "      <td>1</td>\n",
       "      <td>59</td>\n",
       "      <td>3</td>\n",
       "      <td>150.0</td>\n",
       "    </tr>\n",
       "    <tr>\n",
       "      <th>3</th>\n",
       "      <td>3-helium nuclei $\\ce{^3He}$</td>\n",
       "      <td>3</td>\n",
       "      <td>2</td>\n",
       "      <td>236</td>\n",
       "      <td>3</td>\n",
       "      <td>37.5</td>\n",
       "    </tr>\n",
       "    <tr>\n",
       "      <th>4</th>\n",
       "      <td>4-helium nuclei $\\ce{^4He},\\alpha$</td>\n",
       "      <td>4</td>\n",
       "      <td>2</td>\n",
       "      <td>236</td>\n",
       "      <td>4</td>\n",
       "      <td>50.0</td>\n",
       "    </tr>\n",
       "  </tbody>\n",
       "</table>\n",
       "</div>"
      ],
      "text/plain": [
       "                             Particle  mass(u)  charge(e)  stopping power(SI)  \\\n",
       "0                          proton $p$        1          1                  59   \n",
       "1                         deutron $d$        2          1                  59   \n",
       "2                         tritons $t$        3          1                  59   \n",
       "3         3-helium nuclei $\\ce{^3He}$        3          2                 236   \n",
       "4  4-helium nuclei $\\ce{^4He},\\alpha$        4          2                 236   \n",
       "\n",
       "   relative energy  Range  \n",
       "0                1   50.0  \n",
       "1                2  100.0  \n",
       "2                3  150.0  \n",
       "3                3   37.5  \n",
       "4                4   50.0  "
      ]
     },
     "metadata": {},
     "output_type": "display_data"
    },
    {
     "name": "stdout",
     "output_type": "stream",
     "text": [
      "| Particle                           |   mass(u) |   charge(e) |   stopping power(SI) |   relative energy |   Range |\n",
      "|:-----------------------------------|----------:|------------:|---------------------:|------------------:|--------:|\n",
      "| proton $p$                         |         1 |           1 |                   59 |                 1 |    50   |\n",
      "| deutron $d$                        |         2 |           1 |                   59 |                 2 |   100   |\n",
      "| tritons $t$                        |         3 |           1 |                   59 |                 3 |   150   |\n",
      "| 3-helium nuclei $\\ce{^3He}$        |         3 |           2 |                  236 |                 3 |    37.5 |\n",
      "| 4-helium nuclei $\\ce{^4He},\\alpha$ |         4 |           2 |                  236 |                 4 |    50   |\n"
     ]
    }
   ],
   "source": [
    "Range0 = 50\n",
    "\n",
    "df['relative energy'] = mass\n",
    "\n",
    "Range = Range0 / (Energy_loss/Energy_loss[0])*mass\n",
    "df['Range'] = Range\n",
    "display(df)\n",
    "print(df.to_markdown(index=None))"
   ]
  },
  {
   "cell_type": "markdown",
   "metadata": {},
   "source": [
    "### Q3"
   ]
  },
  {
   "cell_type": "code",
   "execution_count": 29,
   "metadata": {},
   "outputs": [],
   "source": [
    "Pulse_gamma = 1e18 *(u.m)**(-2)\n",
    "energy = 100 * u.keV\n",
    "thick = 5 * u.mm\n",
    "density = 7870 *u.kg/(u.m**3)\n",
    "mu_mass = 0.04*u.m**2/u.kg\n",
    "heatcapacity = 1e6 *u.J*u.kg**-1*u.K**-1"
   ]
  },
  {
   "cell_type": "code",
   "execution_count": 30,
   "metadata": {},
   "outputs": [
    {
     "data": {
      "text/latex": [
       "$314.8 \\; \\mathrm{\\frac{1}{m}}$"
      ],
      "text/plain": [
       "<Quantity 314.8 1 / m>"
      ]
     },
     "execution_count": 30,
     "metadata": {},
     "output_type": "execute_result"
    }
   ],
   "source": [
    "# linear attenuation\n",
    "mu = mu_mass*density\n",
    "mu"
   ]
  },
  {
   "cell_type": "code",
   "execution_count": 31,
   "metadata": {},
   "outputs": [
    {
     "data": {
      "text/latex": [
       "$7.9278534 \\times 10^{17} \\; \\mathrm{\\frac{1}{m^{2}}}$"
      ],
      "text/plain": [
       "<Quantity 7.92785336e+17 1 / m2>"
      ]
     },
     "execution_count": 31,
     "metadata": {},
     "output_type": "execute_result"
    }
   ],
   "source": [
    "# Number of interacted gamma particles\n",
    "N_abs = Pulse_gamma*(1-np.exp(-(mu*thick).si))\n",
    "N_abs"
   ]
  },
  {
   "cell_type": "code",
   "execution_count": 32,
   "metadata": {},
   "outputs": [
    {
     "data": {
      "text/latex": [
       "$7.9278534 \\times 10^{19} \\; \\mathrm{\\frac{keV}{m^{2}}}$"
      ],
      "text/plain": [
       "<Quantity 7.92785336e+19 keV / m2>"
      ]
     },
     "execution_count": 32,
     "metadata": {},
     "output_type": "execute_result"
    }
   ],
   "source": [
    "# Energy absorbed\n",
    "ene_abs = N_abs*energy\n",
    "ene_abs"
   ]
  },
  {
   "cell_type": "code",
   "execution_count": 33,
   "metadata": {},
   "outputs": [
    {
     "data": {
      "text/latex": [
       "$39.35 \\; \\mathrm{kg}$"
      ],
      "text/plain": [
       "<Quantity 39.35 kg>"
      ]
     },
     "execution_count": 33,
     "metadata": {},
     "output_type": "execute_result"
    }
   ],
   "source": [
    "mass_slab = density*thick.si*1*u.m**2\n",
    "mass_slab"
   ]
  },
  {
   "cell_type": "code",
   "execution_count": 34,
   "metadata": {},
   "outputs": [
    {
     "name": "stdout",
     "output_type": "stream",
     "text": [
      "3.935000e+07\n"
     ]
    },
    {
     "data": {
      "text/latex": [
       "$39350000 \\; \\mathrm{\\frac{J}{K}}$"
      ],
      "text/plain": [
       "<Quantity 39350000. J / K>"
      ]
     },
     "execution_count": 34,
     "metadata": {},
     "output_type": "execute_result"
    }
   ],
   "source": [
    "heatCapacity = heatcapacity *mass_slab\n",
    "print(f'{heatCapacity.value:e}')\n",
    "heatCapacity"
   ]
  },
  {
   "cell_type": "code",
   "execution_count": 35,
   "metadata": {},
   "outputs": [
    {
     "name": "stdout",
     "output_type": "stream",
     "text": [
      "3.227909e-04\n"
     ]
    },
    {
     "data": {
      "text/latex": [
       "$0.00032279089 \\; \\mathrm{K}$"
      ],
      "text/plain": [
       "<Quantity 0.00032279 K>"
      ]
     },
     "execution_count": 35,
     "metadata": {},
     "output_type": "execute_result"
    }
   ],
   "source": [
    "Temp_inc = ene_abs* 1*u.m**2 / heatCapacity\n",
    "Temp_inc = Temp_inc.si\n",
    "print(f'{Temp_inc.value:e}')\n",
    "Temp_inc"
   ]
  },
  {
   "cell_type": "markdown",
   "metadata": {},
   "source": [
    "### Q4"
   ]
  },
  {
   "cell_type": "code",
   "execution_count": 36,
   "metadata": {},
   "outputs": [
    {
     "data": {
      "text/plain": [
       "(0.4780358009429998, 0.4307829160924542)"
      ]
     },
     "execution_count": 36,
     "metadata": {},
     "output_type": "execute_result"
    }
   ],
   "source": [
    "mu1t = - np.log(0.62)\n",
    "mu2t = - np.log(0.65)\n",
    "mu1t,mu2t"
   ]
  },
  {
   "cell_type": "code",
   "execution_count": 37,
   "metadata": {},
   "outputs": [
    {
     "data": {
      "text/plain": [
       "1.1096907121553636"
      ]
     },
     "execution_count": 37,
     "metadata": {},
     "output_type": "execute_result"
    }
   ],
   "source": [
    "r = mu1t/mu2t\n",
    "r"
   ]
  },
  {
   "cell_type": "code",
   "execution_count": 38,
   "metadata": {},
   "outputs": [
    {
     "data": {
      "text/plain": [
       "(0.3844, 0.42250000000000004)"
      ]
     },
     "execution_count": 38,
     "metadata": {},
     "output_type": "execute_result"
    }
   ],
   "source": [
    "per1_reduced =  np.exp(-2*mu1t)\n",
    "per2_reduced =  np.exp(-2*mu2t)\n",
    "per1_reduced,per2_reduced"
   ]
  }
 ],
 "metadata": {
  "kernelspec": {
   "display_name": "nuclei",
   "language": "python",
   "name": "python3"
  },
  "language_info": {
   "codemirror_mode": {
    "name": "ipython",
    "version": 3
   },
   "file_extension": ".py",
   "mimetype": "text/x-python",
   "name": "python",
   "nbconvert_exporter": "python",
   "pygments_lexer": "ipython3",
   "version": "3.12.2"
  }
 },
 "nbformat": 4,
 "nbformat_minor": 2
}
