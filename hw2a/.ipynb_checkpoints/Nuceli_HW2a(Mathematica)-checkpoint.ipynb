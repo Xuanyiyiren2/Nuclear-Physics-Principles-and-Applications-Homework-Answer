{
 "cells": [
  {
   "cell_type": "code",
   "execution_count": 1,
   "id": "b7af0613-31cb-47d4-bb4a-c06644dff7d6",
   "metadata": {},
   "outputs": [
    {
     "data": {
      "text/html": [
       "<div><img alt=\"Output\" src=\"data:image/png;base64,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\"></div>"
      ],
      "text/plain": [
       "                              -(t λA) - t λB    t λA    t λB\n",
       "            NA0              E               (-E     + E    ) NA0 λA\n",
       "{{NA[t] -> -----, NB[t] -> -(---------------------------------------)}}\n",
       "            t λA                             λA - λB\n",
       "           E"
      ]
     },
     "execution_count": 5,
     "metadata": {
      "text/html": [],
      "text/plain": []
     },
     "output_type": "execute_result"
    }
   ],
   "source": [
    "Clear[NA, NB, \\[Lambda]A, \\[Lambda]B, t]\n",
    "\n",
    "eqns = {\n",
    "  NA'[t] == -\\[Lambda]A*NA[t],\n",
    "  NB'[t] == \\[Lambda]A*NA[t] - \\[Lambda]B*NB[t]\n",
    "};\n",
    "\n",
    "initialConditions = {NA[0] == NA0, NB[0] == NB0};\n",
    "NB0 = 0;\n",
    "\n",
    "sol = DSolve[{eqns, initialConditions}, {NA[t], NB[t]}, t]\n"
   ]
  },
  {
   "cell_type": "code",
   "execution_count": 6,
   "id": "1230d9e5-6d95-4588-8d8f-d43e5d5387bb",
   "metadata": {},
   "outputs": [
    {
     "data": {
      "text/html": [
       "<div><img alt=\"Output\" src=\"data:image/png;base64,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\"></div>"
      ],
      "text/plain": [
       "    -(t λA)    -(t λB)\n",
       "  (E        - E       ) λA\n",
       "-(------------------------)\n",
       "          λA - λB"
      ]
     },
     "execution_count": 6,
     "metadata": {
      "text/html": [],
      "text/plain": []
     },
     "output_type": "execute_result"
    }
   ],
   "source": [
    "rNBt = FullSimplify[sol[[1]][[2]][[2]]/NA0]"
   ]
  },
  {
   "cell_type": "code",
   "execution_count": 7,
   "id": "11331442-b66e-4841-9186-4d9444940ef5",
   "metadata": {},
   "outputs": [
    {
     "ename": "Solve::ifun",
     "evalue": "Inverse functions are being used by Solve, so some solutions may not be found; use Reduce for complete solution information.",
     "output_type": "error",
     "traceback": [
      "\u001b[0;31mSolve::ifun: Inverse functions are being used by Solve, so some solutions may not be found; use Reduce for complete solution information.\u001b[0m"
     ]
    },
    {
     "data": {
      "text/html": [
       "<div><img alt=\"Output\" src=\"data:image/png;base64,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\"></div>"
      ],
      "text/plain": [
       "          λA\n",
       "      Log[--]\n",
       "          λB\n",
       "{t -> -------}\n",
       "      λA - λB"
      ]
     },
     "execution_count": 7,
     "metadata": {
      "text/html": [],
      "text/plain": []
     },
     "output_type": "execute_result"
    }
   ],
   "source": [
    "tmaxres = Solve[D[rNBt,t]==0,t][[1]]"
   ]
  },
  {
   "cell_type": "code",
   "execution_count": 8,
   "id": "b3b9b7b6-b4ed-4346-b1f8-b0de4715b059",
   "metadata": {},
   "outputs": [
    {
     "data": {
      "text/html": [
       "<div><img alt=\"Output\" src=\"data:image/png;base64,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\"></div>"
      ],
      "text/plain": [
       "    λA\n",
       "Log[--]\n",
       "    λB\n",
       "-------\n",
       "λA - λB"
      ]
     },
     "execution_count": 8,
     "metadata": {
      "text/html": [],
      "text/plain": []
     },
     "output_type": "execute_result"
    }
   ],
   "source": [
    "tmax =t/.tmaxres"
   ]
  },
  {
   "cell_type": "code",
   "execution_count": 9,
   "id": "0c33e691-648d-4f69-b661-894b768d0f22",
   "metadata": {},
   "outputs": [
    {
     "data": {
      "text/html": [
       "<div><img alt=\"Output\" src=\"data:image/png;base64,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\"></div>"
      ],
      "text/plain": [
       " λA -(λB/(λA - λB))\n",
       "(--)\n",
       " λB"
      ]
     },
     "execution_count": 9,
     "metadata": {
      "text/html": [],
      "text/plain": []
     },
     "output_type": "execute_result"
    }
   ],
   "source": [
    "rNBtmax=FullSimplify[rNBt/.tmaxres]"
   ]
  },
  {
   "cell_type": "code",
   "execution_count": 10,
   "id": "f5694d7b-6075-4b95-b483-4105c9856191",
   "metadata": {},
   "outputs": [
    {
     "data": {
      "text/html": [
       "<div><img alt=\"Output\" src=\"data:image/png;base64,iVBORw0KGgoAAAANSUhEUgAAABQAAAA0CAIAAAAFR49sAAAA0npUWHRSYXcgcHJvZmlsZSB0eXBlIGV4aWYAAHjabU9trgIxCPzfU3iE8lGgx+lqTbyBx3ew1Zd9cZqFYZjSpczn414uCaZatHlYN6uAdu08QKIurEy1v+MqdPforBfZDRqQ2l/D5taPs+62Mse/QZUXkXwB/DPY9yDhpdNY9bH9PCLOgz5rbHh8f/1nreJszcgVUbm6WwePAopkjWtzu9vVDEayG1e9Ik9zxzXzdMjIiwmefnbPYgLhlitIfioDOSMJNkIk8IYzRCT4QDfenlznBRoyWpx2wDRIAAAACXBIWXMAABJ0AAASdAHeZh94AAAAPHRFWHRTb2Z0d2FyZQBDcmVhdGVkIHdpdGggdGhlIFdvbGZyYW0gTGFuZ3VhZ2UgOiB3d3cud29sZnJhbS5jb21coqaFAAAAIXRFWHRDcmVhdGlvbiBUaW1lADIwMjQ6MDQ6MTAgMTE6NTU6MzgADHzNAAABkklEQVRIie1WsaqDMBS9Pt5aUNwcHCr4BX6Biz9QqEOHToXSqYuD+APpDzg511koFBz9AQfHUqSzUjp2yhvySGs0EQt9D6FnijfneM+N1yQSxhhexTdv4nw+p2l6u908z+OqcQt5nq/XawGBgp1zHIdo6EAg/mKMyLKsKMp+vz8ej/1Ftz1XVfXrqi+zJFhtSZKImEdgbQ/CRzwQbG/HcXy5XJ4ju92ODGaz2XQ6bbB57dlGlmUMmc28XC5t2+4Ua5rGREQd1ouRfqqP+C/Fj/YMgqCuazF7u92apkkfH+1ZFMX9fheLTdOcTCYd4hcw0tUeqZh7MwCAuq6jKAIAXddd1+1gCE7Q+XxOOI7jdBK44sPhAACWZQ0WV1WlKIphGOQVPHF3zZvN5nq9JknSs2I8w77vY4yzLBtgmxomNxOxmLVNDauq2uOZsU0MI4RoZEDmxWJBBvRYLcsSAE6nE4kwV8nGZkDuTmKbz4+NzAghhl2WZRiGhmGsVquemtsQ1/y2vwoANE1DCOm63jn7f7vnDxQ2cW5B/zfCAAAAAElFTkSuQmCC\"></div>"
      ],
      "text/plain": [
       "1\n",
       "-\n",
       "4"
      ]
     },
     "execution_count": 10,
     "metadata": {
      "text/html": [],
      "text/plain": []
     },
     "output_type": "execute_result"
    }
   ],
   "source": [
    "rNBtmax/. \\[Lambda]B-> 2 \\[Lambda]A"
   ]
  }
 ],
 "metadata": {
  "kernelspec": {
   "display_name": "Wolfram Language 13.3",
   "language": "Wolfram Language",
   "name": "wolframlanguage13.3"
  },
  "language_info": {
   "codemirror_mode": "mathematica",
   "file_extension": ".m",
   "mimetype": "application/vnd.wolfram.m",
   "name": "Wolfram Language",
   "pygments_lexer": "mathematica",
   "version": "12.0"
  }
 },
 "nbformat": 4,
 "nbformat_minor": 5
}
