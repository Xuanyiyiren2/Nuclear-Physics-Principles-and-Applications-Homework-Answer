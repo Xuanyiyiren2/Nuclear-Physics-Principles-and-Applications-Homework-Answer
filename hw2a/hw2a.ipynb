{
 "cells": [
  {
   "cell_type": "code",
   "execution_count": 18,
   "metadata": {},
   "outputs": [],
   "source": [
    "import periodictable as pt\n",
    "import astropy.units as u\n",
    "import astropy.constants as const\n",
    "import numpy as np"
   ]
  },
  {
   "cell_type": "markdown",
   "metadata": {},
   "source": [
    "### Q1"
   ]
  },
  {
   "cell_type": "code",
   "execution_count": 5,
   "metadata": {},
   "outputs": [
    {
     "name": "stdout",
     "output_type": "stream",
     "text": [
      "17\n",
      "16\n",
      "18\n"
     ]
    }
   ],
   "source": [
    "print(pt.Cl.number)\n",
    "print(pt.S.number)\n",
    "print(pt.Ar.number)"
   ]
  },
  {
   "cell_type": "code",
   "execution_count": 6,
   "metadata": {},
   "outputs": [],
   "source": [
    "m_e = (0.511*u.MeV/const.c**2).to('u')"
   ]
  },
  {
   "cell_type": "code",
   "execution_count": 7,
   "metadata": {},
   "outputs": [
    {
     "data": {
      "text/latex": [
       "$0.0012259874 \\; \\mathrm{u}$"
      ],
      "text/plain": [
       "<Quantity 0.00122599 u>"
      ]
     },
     "execution_count": 7,
     "metadata": {},
     "output_type": "execute_result"
    }
   ],
   "source": [
    "Q1 = 1.142*u.MeV\n",
    "Q1 = (Q1/const.c**2).to('u')\n",
    "Q1"
   ]
  },
  {
   "cell_type": "code",
   "execution_count": 8,
   "metadata": {},
   "outputs": [
    {
     "data": {
      "text/latex": [
       "$35.968856 \\; \\mathrm{u}$"
      ],
      "text/plain": [
       "<Quantity 35.96885557 u>"
      ]
     },
     "execution_count": 8,
     "metadata": {},
     "output_type": "execute_result"
    }
   ],
   "source": [
    "m_36Cl = Q1 + 35.967081*u.u+m_e\n",
    "m_36Cl"
   ]
  },
  {
   "cell_type": "code",
   "execution_count": 9,
   "metadata": {},
   "outputs": [
    {
     "data": {
      "text/latex": [
       "$0.00076114277 \\; \\mathrm{u}$"
      ],
      "text/plain": [
       "<Quantity 0.00076114 u>"
      ]
     },
     "execution_count": 9,
     "metadata": {},
     "output_type": "execute_result"
    }
   ],
   "source": [
    "Q2 = 0.709*u.MeV\n",
    "Q2 = (Q2/const.c**2).to('u')\n",
    "Q2"
   ]
  },
  {
   "cell_type": "code",
   "execution_count": 10,
   "metadata": {},
   "outputs": [
    {
     "data": {
      "text/latex": [
       "$35.967546 \\; \\mathrm{u}$"
      ],
      "text/plain": [
       "<Quantity 35.96754584 u>"
      ]
     },
     "execution_count": 10,
     "metadata": {},
     "output_type": "execute_result"
    }
   ],
   "source": [
    "m_36Ar = m_36Cl - Q2 - m_e\n",
    "m_36Ar"
   ]
  },
  {
   "cell_type": "markdown",
   "metadata": {},
   "source": [
    "### Q3"
   ]
  },
  {
   "cell_type": "code",
   "execution_count": 44,
   "metadata": {},
   "outputs": [
    {
     "name": "stdout",
     "output_type": "stream",
     "text": [
      "18\n",
      "19\n"
     ]
    }
   ],
   "source": [
    "print(pt.Ar.number)\n",
    "print(pt.K.number)"
   ]
  },
  {
   "cell_type": "code",
   "execution_count": 58,
   "metadata": {},
   "outputs": [
    {
     "name": "stdout",
     "output_type": "stream",
     "text": [
      "40.9645008\n",
      "40.96182597\n"
     ]
    }
   ],
   "source": [
    "print(pt.Ar[41].mass)\n",
    "print(pt.K[41].mass)"
   ]
  },
  {
   "cell_type": "code",
   "execution_count": 64,
   "metadata": {},
   "outputs": [
    {
     "data": {
      "text/latex": [
       "$0.68757916 \\; \\mathrm{MeV}$"
      ],
      "text/plain": [
       "<Quantity 0.68757916 MeV>"
      ]
     },
     "execution_count": 64,
     "metadata": {},
     "output_type": "execute_result"
    }
   ],
   "source": [
    "Q = ((pt.Ar[41].mass-pt.K[41].mass)*u.u*const.c**2).to('MeV') - 1.293*u.MeV - 0.511*u.MeV\n",
    "\n",
    "Te = (pt.Ar[41].mass*const.c**2*u.u)/(pt.Ar[41].mass*const.c**2*u.u+0.511*u.MeV)*Q\n",
    "Te"
   ]
  },
  {
   "cell_type": "markdown",
   "metadata": {},
   "source": [
    "### Q4"
   ]
  },
  {
   "cell_type": "code",
   "execution_count": 25,
   "metadata": {},
   "outputs": [
    {
     "data": {
      "text/latex": [
       "$1209600 \\; \\mathrm{s}$"
      ],
      "text/plain": [
       "<Quantity 1209600. s>"
      ]
     },
     "execution_count": 25,
     "metadata": {},
     "output_type": "execute_result"
    }
   ],
   "source": [
    "T1=(2*u.wk).to('s')\n",
    "T1"
   ]
  },
  {
   "cell_type": "code",
   "execution_count": 40,
   "metadata": {},
   "outputs": [
    {
     "data": {
      "text/latex": [
       "$2.9487016 \\times 10^{-7} \\; \\mathrm{\\frac{1}{s}}$"
      ],
      "text/plain": [
       "<Quantity 2.94870159e-07 1 / s>"
      ]
     },
     "metadata": {},
     "output_type": "display_data"
    },
    {
     "data": {
      "text/latex": [
       "$3.8867164 \\; \\mathrm{wk}$"
      ],
      "text/plain": [
       "<Quantity 3.88671642 wk>"
      ]
     },
     "metadata": {},
     "output_type": "display_data"
    },
    {
     "data": {
      "text/latex": [
       "$5.6073465 \\; \\mathrm{wk}$"
      ],
      "text/plain": [
       "<Quantity 5.6073465 wk>"
      ]
     },
     "metadata": {},
     "output_type": "display_data"
    }
   ],
   "source": [
    "lam = -np.log(0.7)/T1\n",
    "T_half = (np.log(2)/(-np.log(0.7))*T1).to('wk')\n",
    "T_life = (T1/(-np.log(0.7))).to('wk')\n",
    "\n",
    "display(lam)\n",
    "display(T_half)\n",
    "display(T_life)"
   ]
  }
 ],
 "metadata": {
  "kernelspec": {
   "display_name": "nuclei",
   "language": "python",
   "name": "python3"
  },
  "language_info": {
   "codemirror_mode": {
    "name": "ipython",
    "version": 3
   },
   "file_extension": ".py",
   "mimetype": "text/x-python",
   "name": "python",
   "nbconvert_exporter": "python",
   "pygments_lexer": "ipython3",
   "version": "3.12.2"
  }
 },
 "nbformat": 4,
 "nbformat_minor": 2
}
