{
 "cells": [
  {
   "cell_type": "code",
   "execution_count": 76,
   "metadata": {},
   "outputs": [],
   "source": [
    "from astropy import constants as const\n",
    "from astropy import units as u\n",
    "import numpy as np"
   ]
  },
  {
   "cell_type": "markdown",
   "metadata": {},
   "source": [
    "## Q2"
   ]
  },
  {
   "cell_type": "code",
   "execution_count": 77,
   "metadata": {},
   "outputs": [
    {
     "data": {
      "text/latex": [
       "$1201732.3 \\; \\mathrm{\\frac{A}{K^{2}\\,m^{2}}}$"
      ],
      "text/plain": [
       "<Quantity 1201732.28948903 A / (K2 m2)>"
      ]
     },
     "execution_count": 77,
     "metadata": {},
     "output_type": "execute_result"
    }
   ],
   "source": [
    "Richardson = 4*np.pi*const.m_e*const.k_B**2*const.e.si/const.h**3\n",
    "Richardson=Richardson.si\n",
    "Richardson"
   ]
  },
  {
   "cell_type": "code",
   "execution_count": 78,
   "metadata": {},
   "outputs": [
    {
     "data": {
      "text/latex": [
       "$194777.49 \\; \\mathrm{\\frac{A}{m^{2}}}$"
      ],
      "text/plain": [
       "<Quantity 194777.48556078 A / m2>"
      ]
     },
     "metadata": {},
     "output_type": "display_data"
    },
    {
     "name": "stdout",
     "output_type": "stream",
     "text": [
      "1.948e+05\n"
     ]
    }
   ],
   "source": [
    "W1 = 4.1*u.eV\n",
    "T1 = 2700*u.K\n",
    "J1 = Richardson*T1**2*np.exp(-W1/(const.k_B*T1))\n",
    "display(J1.si)\n",
    "print(f'{J1.si.value:.3e}')"
   ]
  },
  {
   "cell_type": "code",
   "execution_count": 79,
   "metadata": {},
   "outputs": [
    {
     "data": {
      "text/latex": [
       "$2.0827397 \\times 10^{-9} \\; \\mathrm{\\frac{A}{m^{2}}}$"
      ],
      "text/plain": [
       "<Quantity 2.08273971e-09 A / m2>"
      ]
     },
     "metadata": {},
     "output_type": "display_data"
    }
   ],
   "source": [
    "W2 = 2*u.eV\n",
    "T2 = 500*u.K\n",
    "J2 = Richardson*T2**2*np.exp(-W2/(const.k_B*T2))\n",
    "display(J2.si)\n",
    "# print(f'{J2.si.value:.3e}')"
   ]
  },
  {
   "cell_type": "code",
   "execution_count": 80,
   "metadata": {},
   "outputs": [
    {
     "data": {
      "text/latex": [
       "$0.11999852 \\; \\mathrm{eV}$"
      ],
      "text/plain": [
       "<Quantity 0.11999852 eV>"
      ]
     },
     "metadata": {},
     "output_type": "display_data"
    },
    {
     "data": {
      "text/latex": [
       "$326231.69 \\; \\mathrm{\\frac{A}{m^{2}}}$"
      ],
      "text/plain": [
       "<Quantity 326231.68508756 A / m2>"
      ]
     },
     "metadata": {},
     "output_type": "display_data"
    },
    {
     "data": {
      "text/latex": [
       "$3.3741693 \\times 10^{-8} \\; \\mathrm{\\frac{A}{m^{2}}}$"
      ],
      "text/plain": [
       "<Quantity 3.37416933e-08 A / m2>"
      ]
     },
     "metadata": {},
     "output_type": "display_data"
    }
   ],
   "source": [
    "E=100*u.kV/u.cm\n",
    "Delta_W = np.sqrt(const.e.si**3*E/(4*np.pi*const.eps0)).to(u.eV)\n",
    "Delta_W\n",
    "display(Delta_W)\n",
    "W1_=W1-Delta_W\n",
    "J1_=Richardson*T1**2*np.exp(-W1_/(const.k_B*T1))\n",
    "W2_=W2-Delta_W\n",
    "J2_=Richardson*T2**2*np.exp(-W2_/(const.k_B*T2))\n",
    "display(J1_.si,J2_.si)"
   ]
  },
  {
   "cell_type": "markdown",
   "metadata": {},
   "source": [
    "## Q4"
   ]
  },
  {
   "cell_type": "code",
   "execution_count": 82,
   "metadata": {},
   "outputs": [
    {
     "data": {
      "text/html": [
       "<div>\n",
       "<style scoped>\n",
       "    .dataframe tbody tr th:only-of-type {\n",
       "        vertical-align: middle;\n",
       "    }\n",
       "\n",
       "    .dataframe tbody tr th {\n",
       "        vertical-align: top;\n",
       "    }\n",
       "\n",
       "    .dataframe thead th {\n",
       "        text-align: right;\n",
       "    }\n",
       "</style>\n",
       "<table border=\"1\" class=\"dataframe\">\n",
       "  <thead>\n",
       "    <tr style=\"text-align: right;\">\n",
       "      <th></th>\n",
       "      <th>z</th>\n",
       "      <th>n</th>\n",
       "      <th>symbol</th>\n",
       "      <th>radius</th>\n",
       "      <th>unc_r</th>\n",
       "      <th>abundance</th>\n",
       "      <th>unc_a</th>\n",
       "      <th>energy_shift</th>\n",
       "      <th>energy</th>\n",
       "      <th>unc_e</th>\n",
       "      <th>...</th>\n",
       "      <th>unc_ba</th>\n",
       "      <th>atomic_mass</th>\n",
       "      <th>unc_am</th>\n",
       "      <th>massexcess</th>\n",
       "      <th>unc_me</th>\n",
       "      <th>me_systematics</th>\n",
       "      <th>discovery</th>\n",
       "      <th>ENSDFpublicationcut-off</th>\n",
       "      <th>ENSDFauthors</th>\n",
       "      <th>Extraction_date</th>\n",
       "    </tr>\n",
       "  </thead>\n",
       "  <tbody>\n",
       "    <tr>\n",
       "      <th>0</th>\n",
       "      <td>8</td>\n",
       "      <td>8</td>\n",
       "      <td>O</td>\n",
       "      <td>2.6991</td>\n",
       "      <td>0.0052</td>\n",
       "      <td>99.757</td>\n",
       "      <td>0.011</td>\n",
       "      <td>NaN</td>\n",
       "      <td>0</td>\n",
       "      <td>NaN</td>\n",
       "      <td>...</td>\n",
       "      <td>0.0002</td>\n",
       "      <td>1.599491e+07</td>\n",
       "      <td>0.00032</td>\n",
       "      <td>-4737.00217</td>\n",
       "      <td>0.0003</td>\n",
       "      <td>N</td>\n",
       "      <td>1919</td>\n",
       "      <td>31-DEC-1992</td>\n",
       "      <td>J.H. KELLEY and  D.R. TILLEY and  H.R. WELLER ...</td>\n",
       "      <td>2024-04-09</td>\n",
       "    </tr>\n",
       "  </tbody>\n",
       "</table>\n",
       "<p>1 rows × 55 columns</p>\n",
       "</div>"
      ],
      "text/plain": [
       "   z  n symbol  radius   unc_r  abundance  unc_a  energy_shift  energy  unc_e  \\\n",
       "0  8  8      O  2.6991  0.0052     99.757  0.011           NaN       0    NaN   \n",
       "\n",
       "   ...  unc_ba   atomic_mass   unc_am  massexcess  unc_me  me_systematics  \\\n",
       "0  ...  0.0002  1.599491e+07  0.00032 -4737.00217  0.0003               N   \n",
       "\n",
       "   discovery  ENSDFpublicationcut-off  \\\n",
       "0       1919              31-DEC-1992   \n",
       "\n",
       "                                        ENSDFauthors  Extraction_date  \n",
       "0  J.H. KELLEY and  D.R. TILLEY and  H.R. WELLER ...       2024-04-09  \n",
       "\n",
       "[1 rows x 55 columns]"
      ]
     },
     "execution_count": 82,
     "metadata": {},
     "output_type": "execute_result"
    }
   ],
   "source": [
    "# https://iaea-nds.github.io/lc_api_notebook/\n",
    "\n",
    "import pandas as pd\n",
    "import urllib\n",
    "# the service URL\n",
    "livechart = \"https://nds.iaea.org/relnsd/v1/data?\"\n",
    "\n",
    "# There have been cases in which the service returns an HTTP Error 403: Forbidden\n",
    "# use this workaround\n",
    "import urllib.request\n",
    "def lc_pd_dataframe(url):\n",
    "    req = urllib.request.Request(url)\n",
    "    req.add_header('User-Agent', 'Mozilla/5.0 (X11; Ubuntu; Linux x86_64; rv:77.0) Gecko/20100101 Firefox/77.0')\n",
    "    return pd.read_csv(urllib.request.urlopen(req))\n",
    "df=lc_pd_dataframe(livechart+\"fields=ground_states&nuclides=16o\")\n",
    "df"
   ]
  },
  {
   "cell_type": "code",
   "execution_count": 106,
   "metadata": {},
   "outputs": [
    {
     "data": {
      "text/latex": [
       "$14899.169 \\; \\mathrm{MeV}$"
      ],
      "text/plain": [
       "<Quantity 14899.16863651 MeV>"
      ]
     },
     "execution_count": 106,
     "metadata": {},
     "output_type": "execute_result"
    }
   ],
   "source": [
    "mass16O=df['atomic_mass'][0]*u.uu\n",
    "mass16O=mass16O.to(u.u)\n",
    "mass16O_E=(mass16O*const.c**2).to(u.MeV)\n",
    "mass16O_E"
   ]
  },
  {
   "cell_type": "code",
   "execution_count": 141,
   "metadata": {},
   "outputs": [
    {
     "data": {
      "text/latex": [
       "$31067026 \\; \\mathrm{\\frac{m}{s}}$"
      ],
      "text/plain": [
       "<Quantity 31067025.67792852 m / s>"
      ]
     },
     "metadata": {},
     "output_type": "display_data"
    },
    {
     "name": "stdout",
     "output_type": "stream",
     "text": [
      "3.11e+07\n"
     ]
    },
    {
     "data": {
      "text/latex": [
       "$\\mathrm{\\frac{m}{s}}$"
      ],
      "text/plain": [
       "Unit(\"m / s\")"
      ]
     },
     "metadata": {},
     "output_type": "display_data"
    }
   ],
   "source": [
    "E_k = 80*u.MeV\n",
    "velo=np.sqrt(2*E_k/mass16O).si\n",
    "display(velo)\n",
    "print(f'{velo.value:.2e}')\n",
    "display(velo.unit)"
   ]
  },
  {
   "cell_type": "code",
   "execution_count": 129,
   "metadata": {},
   "outputs": [
    {
     "data": {
      "text/latex": [
       "$0.51778376 \\; \\mathrm{m}$"
      ],
      "text/plain": [
       "<Quantity 0.51778376 m>"
      ]
     },
     "execution_count": 129,
     "metadata": {},
     "output_type": "execute_result"
    }
   ],
   "source": [
    "freq = 30*u.MHz\n",
    "Length = (velo/(2*freq)).si\n",
    "Length"
   ]
  },
  {
   "cell_type": "markdown",
   "metadata": {},
   "source": [
    "Netrual Units\n",
    "$$\n",
    "(E+m)^2=\\boldsymbol{p}^2+m^2,p=\\gamma m\\boldsymbol{v}\\\\\n",
    "\\boldsymbol{p}^2=E(E+2m)\\\\\n",
    "|\\boldsymbol{p}|=\\gamma m |\\boldsymbol{v}|=m\\frac{|\\boldsymbol{v}|}{\\sqrt{1-|\\boldsymbol{v}|^2}}\\\\\n",
    "|\\boldsymbol{v}|=\\frac {|\\boldsymbol{p}|\\big/m}{\\sqrt{1+\\left(|\\boldsymbol{p}|\\big/m\\right)^2}}\n",
    "$$"
   ]
  },
  {
   "cell_type": "code",
   "execution_count": 139,
   "metadata": {},
   "outputs": [
    {
     "data": {
      "text/latex": [
       "$30942557 \\; \\mathrm{\\frac{m}{s}}$"
      ],
      "text/plain": [
       "<Quantity 30942556.95357017 m / s>"
      ]
     },
     "execution_count": 139,
     "metadata": {},
     "output_type": "execute_result"
    }
   ],
   "source": [
    "# velosity calculetd by relativistic effect.\n",
    "p=np.sqrt((E_k+2*mass16O_E)*E_k)\n",
    "v=(p/mass16O_E)/np.sqrt(1+(p/mass16O_E)**2)*const.c\n",
    "v"
   ]
  }
 ],
 "metadata": {
  "kernelspec": {
   "display_name": "nuclei",
   "language": "python",
   "name": "python3"
  },
  "language_info": {
   "codemirror_mode": {
    "name": "ipython",
    "version": 3
   },
   "file_extension": ".py",
   "mimetype": "text/x-python",
   "name": "python",
   "nbconvert_exporter": "python",
   "pygments_lexer": "ipython3",
   "version": "3.12.2"
  }
 },
 "nbformat": 4,
 "nbformat_minor": 2
}
