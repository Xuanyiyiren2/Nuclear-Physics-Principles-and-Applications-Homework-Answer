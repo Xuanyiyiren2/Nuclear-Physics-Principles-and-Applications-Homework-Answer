{
 "cells": [
  {
   "cell_type": "markdown",
   "metadata": {},
   "source": [
    "https://periodictable.readthedocs.io/en/latest/guide/using.html"
   ]
  },
  {
   "cell_type": "code",
   "execution_count": 1,
   "metadata": {},
   "outputs": [],
   "source": [
    "import periodictable as pt"
   ]
  },
  {
   "cell_type": "code",
   "execution_count": 26,
   "metadata": {},
   "outputs": [
    {
     "name": "stdout",
     "output_type": "stream",
     "text": [
      "Co\n",
      "58.9332\n",
      "27\n"
     ]
    }
   ],
   "source": [
    "print(pt.Co)\n",
    "print(pt.Co.mass)\n",
    "print(pt.Co.number)"
   ]
  },
  {
   "cell_type": "code",
   "execution_count": 29,
   "metadata": {},
   "outputs": [
    {
     "name": "stdout",
     "output_type": "stream",
     "text": [
      "48-Co,mass 48.00176\n",
      "49-Co,mass 48.98972\n",
      "50-Co,mass 49.98154\n",
      "51-Co,mass 50.97072\n",
      "52-Co,mass 51.96359\n",
      "53-Co,mass 52.954225\n",
      "54-Co,mass 53.9484641\n",
      "55-Co,mass 54.9420031\n",
      "56-Co,mass 55.9398439\n",
      "57-Co,mass 56.9362962\n",
      "58-Co,mass 57.9357576\n",
      "59-Co,mass 58.9332002\n",
      "60-Co,mass 59.9338222\n",
      "61-Co,mass 60.9324794\n",
      "62-Co,mass 61.934054\n",
      "63-Co,mass 62.933615\n",
      "64-Co,mass 63.935814\n",
      "65-Co,mass 64.936485\n",
      "66-Co,mass 65.93983\n",
      "67-Co,mass 66.94061\n",
      "68-Co,mass 67.94436\n",
      "69-Co,mass 68.9452\n",
      "70-Co,mass 69.94981\n",
      "71-Co,mass 70.95173\n",
      "72-Co,mass 71.95641\n"
     ]
    }
   ],
   "source": [
    "for i in pt.Co:\n",
    "    print(f'{i},mass {i.mass}')"
   ]
  }
 ],
 "metadata": {
  "kernelspec": {
   "display_name": "base",
   "language": "python",
   "name": "python3"
  },
  "language_info": {
   "codemirror_mode": {
    "name": "ipython",
    "version": 3
   },
   "file_extension": ".py",
   "mimetype": "text/x-python",
   "name": "python",
   "nbconvert_exporter": "python",
   "pygments_lexer": "ipython3",
   "version": "3.12.2"
  }
 },
 "nbformat": 4,
 "nbformat_minor": 2
}
