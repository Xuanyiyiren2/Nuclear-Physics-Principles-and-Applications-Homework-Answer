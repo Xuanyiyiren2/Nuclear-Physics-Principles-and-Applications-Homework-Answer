{
 "cells": [
  {
   "cell_type": "code",
   "execution_count": 1,
   "metadata": {},
   "outputs": [],
   "source": [
    "import astropy.units as u\n",
    "import astropy.constants as const\n",
    "import numpy as np\n",
    "\n",
    "import pandas as pd\n",
    "import urllib\n",
    "# the service URL\n",
    "livechart = \"https://nds.iaea.org/relnsd/v1/data?\"\n",
    "\n",
    "# There have been cases in which the service returns an HTTP Error 403: Forbidden\n",
    "# use this workaround\n",
    "import urllib.request\n",
    "def lc_pd_dataframe(url):\n",
    "    req = urllib.request.Request(url)\n",
    "    req.add_header('User-Agent', 'Mozilla/5.0 (X11; Ubuntu; Linux x86_64; rv:77.0) Gecko/20100101 Firefox/77.0')\n",
    "    return pd.read_csv(urllib.request.urlopen(req))"
   ]
  },
  {
   "cell_type": "markdown",
   "metadata": {},
   "source": [
    "# Question 1\n",
    "\n",
    "Typically, the efficiency of a gamma-ray detector is approximately $\\varepsilon \\approx 0.1$, and the minimum count rate is ${\\rm CR}_{\\min} \\approx 0.5\\,{\\rm s^{-1}}$. What is the minimum detectable mass of $\\rm ^{32}P$ in a sample ($\\rm ^{32}P$, $T_{1/2} = 14.26 \\, {\\rm day}$)?"
   ]
  },
  {
   "cell_type": "markdown",
   "metadata": {},
   "source": [
    "## Answer\n",
    "\n",
    "The minimum count rate needed for a given radioactive source is $A_{\\min}$\n",
    "\n",
    "$$\n",
    "A_{\\min} = {\\rm CR}_{\\min} \\varepsilon\n",
    "$$\n",
    "\n",
    "The relationship between radioactivity and the number of atoms is\n",
    "\n",
    "$$\n",
    "A = \\lambda N\n",
    "$$\n",
    "\n",
    "Thus the minimal number of atoms needed is\n",
    "\n",
    "$$\n",
    "N_{\\min} = \\frac{{\\rm CR}_{\\min} \\varepsilon}{\\lambda}\n",
    "$$"
   ]
  },
  {
   "cell_type": "code",
   "execution_count": 20,
   "metadata": {},
   "outputs": [
    {
     "data": {
      "text/latex": [
       "$88874.631 \\; \\mathrm{}$"
      ],
      "text/plain": [
       "<Quantity 88874.63114289>"
      ]
     },
     "execution_count": 20,
     "metadata": {},
     "output_type": "execute_result"
    }
   ],
   "source": [
    "eps = 0.1\n",
    "CR_min = 0.5*u.s**-1\n",
    "T_half = 14.26*u.day\n",
    "lam = np.log(2)/T_half\n",
    "N_min = (CR_min*eps/lam).to(1)\n",
    "N_min"
   ]
  },
  {
   "cell_type": "markdown",
   "metadata": {},
   "source": [
    "So $N_{\\min} = 8.89\\times 10^5$. From which we can get the mass of the radioactive isotope:\n",
    "\n",
    "$$\n",
    "m = N\\cdot m_{\\rm ^{32}P}\n",
    "$$\n",
    "\n",
    "We can use data from Live Chart of Nuclides to get the mass of $\\rm ^{32}P$ atoms(the unit of 'atomic_mass' columns is $\\rm \\mu u$):"
   ]
  },
  {
   "cell_type": "code",
   "execution_count": 17,
   "metadata": {},
   "outputs": [
    {
     "data": {
      "text/html": [
       "<div>\n",
       "<style scoped>\n",
       "    .dataframe tbody tr th:only-of-type {\n",
       "        vertical-align: middle;\n",
       "    }\n",
       "\n",
       "    .dataframe tbody tr th {\n",
       "        vertical-align: top;\n",
       "    }\n",
       "\n",
       "    .dataframe thead th {\n",
       "        text-align: right;\n",
       "    }\n",
       "</style>\n",
       "<table border=\"1\" class=\"dataframe\">\n",
       "  <thead>\n",
       "    <tr style=\"text-align: right;\">\n",
       "      <th></th>\n",
       "      <th>z</th>\n",
       "      <th>n</th>\n",
       "      <th>symbol</th>\n",
       "      <th>jp</th>\n",
       "      <th>atomic_mass</th>\n",
       "      <th>massexcess</th>\n",
       "    </tr>\n",
       "  </thead>\n",
       "  <tbody>\n",
       "    <tr>\n",
       "      <th>0</th>\n",
       "      <td>15</td>\n",
       "      <td>17</td>\n",
       "      <td>P</td>\n",
       "      <td>1+</td>\n",
       "      <td>3.197391e+07</td>\n",
       "      <td>-24304.876</td>\n",
       "    </tr>\n",
       "  </tbody>\n",
       "</table>\n",
       "</div>"
      ],
      "text/plain": [
       "    z   n symbol  jp   atomic_mass  massexcess\n",
       "0  15  17      P  1+  3.197391e+07  -24304.876"
      ]
     },
     "execution_count": 17,
     "metadata": {},
     "output_type": "execute_result"
    }
   ],
   "source": [
    "P32_basic_property = lc_pd_dataframe(livechart+\"fields=ground_states&nuclides=32P\")\n",
    "P32_basic_property[['z','n','symbol','jp','atomic_mass','massexcess']]"
   ]
  },
  {
   "cell_type": "code",
   "execution_count": 25,
   "metadata": {},
   "outputs": [
    {
     "data": {
      "text/latex": [
       "$4.7187028 \\times 10^{-18} \\; \\mathrm{g}$"
      ],
      "text/plain": [
       "<Quantity 4.7187028e-18 g>"
      ]
     },
     "execution_count": 25,
     "metadata": {},
     "output_type": "execute_result"
    }
   ],
   "source": [
    "m_32P = P32_basic_property['atomic_mass'][0]*u.uu\n",
    "m_total = m_32P*N_min\n",
    "m_total.to(u.g)"
   ]
  },
  {
   "cell_type": "markdown",
   "metadata": {},
   "source": [
    "So the minimal detected mass of $\\rm ^{32}P$ is $4.72\\times 10^{-18}\\,{\\rm g}$."
   ]
  },
  {
   "cell_type": "markdown",
   "metadata": {},
   "source": [
    "# Question\n",
    "\n",
    "Charcoal found in a deep layer of sediment in a cave is found to have an atomic $\\rm ^{14}C/^{12}C$ ratio only 30% that of a charcoal sample from a higher level with a known age of 1850 years. What is the age of the deeper layer? （14C has a half-life of 5730 years, the ratio of $\\rm ^{14}C$ to all carbon atoms in the environment in equilibrium was about $N_{\\rm ^{14}C}/N_{\\rm C} = 1.23 \\times 10^{-12}$.）"
   ]
  },
  {
   "cell_type": "markdown",
   "metadata": {},
   "source": [
    "## Answer\n",
    "\n",
    "The ratio of $\\rm ^{14}C/^{12}C$ of the charcoal sample with a age of 1850 years should be\n",
    "$$\n",
    "\\frac{N_2(\\rm^{14}C)}{N_2(\\rm^{12}C)} = \\frac{N_{\\rm eq}(\\rm^{14}C)}{N_{\\rm eq}(\\rm^{12}C)} \\cdot {\\rm e}^{-\\lambda T_2} \\\\\n",
    "T_2 = 1850\\,{\\rm yr}, \\lambda = \\frac{\\ln 2}{T_{1/2}({\\rm ^{14}C})}.\n",
    "$$\n",
    "\n",
    "And the ratio of $\\rm ^{14}C/^{12}C$ of the unknown charcoal sample is\n",
    "$$\n",
    "\\frac{N_1(\\rm^{14}C)}{N_1(\\rm^{12}C)} = \\frac{N_{\\rm eq}(\\rm^{14}C)}{N_{\\rm eq}(\\rm^{12}C)} \\cdot {\\rm e}^{-\\lambda T_1}\n",
    "$$\n",
    "where $T_1$ is its age.\n",
    "\n",
    "We can divide these tow euqations to get the following equation:\n",
    "$$\n",
    "\\frac{N_1(\\rm^{14}C)}{N_1(\\rm^{12}C)}\\big / \\frac{N_2(\\rm^{14}C)}{N_2(\\rm^{12}C)} = {\\rm e}^{-\\lambda(T_1 - T_2)}\n",
    "$$\n",
    "\n",
    "And we know that $\\frac{N_1(\\rm^{14}C)}{N_1(\\rm^{12}C)}\\big / \\frac{N_2(\\rm^{14}C)}{N_2(\\rm^{12}C)} = 30\\%$, so\n",
    "$$\n",
    "0.3 = {\\rm e}^{-\\lambda(T_1 - T_2)} = \\frac 1{2^{\\frac{T_1-T_2}{T_{1/2}}}} \\\\\n",
    "T_1 = T_2 + T_{1/2}\\log_2 \\left(\\frac{1}{0.3}\\right)\n",
    "$$"
   ]
  },
  {
   "cell_type": "code",
   "execution_count": 31,
   "metadata": {},
   "outputs": [
    {
     "data": {
      "text/latex": [
       "$11802.813 \\; \\mathrm{yr}$"
      ],
      "text/plain": [
       "<Quantity 11802.81285457 yr>"
      ]
     },
     "execution_count": 31,
     "metadata": {},
     "output_type": "execute_result"
    }
   ],
   "source": [
    "T2 = 1850*u.year\n",
    "T_half = 5730*u.year\n",
    "T1 = T2 + T_half*np.log2(1/0.3)\n",
    "T1"
   ]
  },
  {
   "cell_type": "markdown",
   "metadata": {},
   "source": [
    "So the age of the unknwon sample is about 12 thousand years old."
   ]
  },
  {
   "cell_type": "markdown",
   "metadata": {},
   "source": [
    "# Question 3\n",
    "\n",
    "What type of a radioactive source should be used, and how should it be used in thickness gauging processes if it is to be used for \n",
    "\n",
    "(a) gauging paper thickness, \n",
    "\n",
    "(b) the control of sheet metal thickness between 0.1 and 1 cm, \n",
    "\n",
    "and (c) controlling the coating thickness of adhesive on a cloth substrate?"
   ]
  },
  {
   "cell_type": "markdown",
   "metadata": {},
   "source": [
    "## Answer\n",
    "\n",
    "Gauging paper thickness is well suited to beta particle sources. The greater mass thickness of sheet metal requires x ray or gamma ray sources. Controlling coating thickness is a special challenge because the coating is often similar to the substrate in density and atomic mass. In that case, flourescence thickness gauging is called for."
   ]
  }
 ],
 "metadata": {
  "kernelspec": {
   "display_name": "mybase",
   "language": "python",
   "name": "python3"
  },
  "language_info": {
   "codemirror_mode": {
    "name": "ipython",
    "version": 3
   },
   "file_extension": ".py",
   "mimetype": "text/x-python",
   "name": "python",
   "nbconvert_exporter": "python",
   "pygments_lexer": "ipython3",
   "version": "3.12.2"
  }
 },
 "nbformat": 4,
 "nbformat_minor": 2
}
