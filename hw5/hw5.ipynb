{
 "cells": [
  {
   "cell_type": "code",
   "execution_count": 10,
   "metadata": {},
   "outputs": [],
   "source": [
    "import astropy.units as u\n",
    "import astropy.constants as const\n",
    "import numpy as np"
   ]
  },
  {
   "cell_type": "markdown",
   "metadata": {},
   "source": [
    "## Question 1\n",
    "\n",
    "What are fusion reactions?  Which fusion reaction will you choose for further study? Give the reaction and some reasons for your choice."
   ]
  },
  {
   "cell_type": "markdown",
   "metadata": {},
   "source": [
    "### Answer\n",
    "\n",
    "Fusion reactions are nuclear processes in which two light atomic nuclei combine to form a heavier nucleus, releasing a significant amount of energy. These reactions power the sun and other stars. There are several types of fusion reactions, but the most commonly studied and promising for practical energy production include:\n",
    "\n",
    "For further study, the Deuterium-Tritium (D-T) fusion reaction is the most practical choice. The reasons for this choice include:\n",
    "\n",
    "Higher Energy Output: The D-T reaction produces 17.6 MeV of energy, which is higher than other fusion reactions.\n",
    "Lower Temperature Requirements: It achieves significant reaction rates at temperatures lower than those needed for D-D or other fusion reactions.\n",
    "Abundant Fuel Sources: Deuterium is abundantly available in seawater, and tritium can be bred from lithium, making the fuel supply relatively sustainable​ (Energy.gov)​.\n",
    "In summary, the D-T fusion reaction is the most promising for practical energy production due to its high energy yield, lower temperature requirements, and the relative abundance of its fuel sources."
   ]
  },
  {
   "cell_type": "markdown",
   "metadata": {},
   "source": [
    "## Question 2\n",
    "\n",
    "What is the distance between two protons at which the Coulomb potential is equal to the Coulomb barrier of $180\\,{\\rm keV}$? "
   ]
  },
  {
   "cell_type": "markdown",
   "metadata": {},
   "source": [
    "### Answer\n",
    "\n",
    "The Coulomb potential of two electron is \n",
    "\n",
    "$$\n",
    "V(r) = \\frac{\\alpha \\hbar c}{r}\n",
    "$$\n",
    "\n",
    "If we want the Coulomb potential to be $E_0 = 180\\,{\\rm keV}$, the distance should be\n",
    "\n",
    "$$\n",
    "r = \\frac{\\alpha \\hbar c}{E_0}\n",
    "$$"
   ]
  },
  {
   "cell_type": "code",
   "execution_count": 11,
   "metadata": {},
   "outputs": [
    {
     "data": {
      "text/latex": [
       "$7.999803 \\; \\mathrm{fm}$"
      ],
      "text/plain": [
       "<Quantity 7.99980304 fm>"
      ]
     },
     "execution_count": 11,
     "metadata": {},
     "output_type": "execute_result"
    }
   ],
   "source": [
    "E0 = 180*u.keV\n",
    "r = const.alpha*const.hbar*const.c/E0\n",
    "r.to('fm')"
   ]
  },
  {
   "cell_type": "markdown",
   "metadata": {},
   "source": [
    "Thus the distance should be about $8.0\\,{\\rm fm}$."
   ]
  },
  {
   "cell_type": "markdown",
   "metadata": {},
   "source": [
    "## Question 3\n",
    "\n",
    "A plasma consists of equal numbers of deuterons and tritons at a temperature for which $kT = 10\\,{\\rm keV}$. Calculate the plasma density $n$ if, for a confinement time $\\tau= 3\\,{\\rm s}$, the Lawson criterion is just satisfied. Determine the reaction rate per particle in the plasma."
   ]
  },
  {
   "cell_type": "markdown",
   "metadata": {},
   "source": [
    "### Answer\n",
    "\n",
    "The question do not give a certain types of fussion, so I'll take the D-T fussion as an example.\n",
    "\n",
    "The Lawson criterion is\n",
    "\n",
    "$$\n",
    "n \\tau = \\frac {12}{E_c} \\frac{k_B T}{\\left<\\sigma v \\right>}\n",
    "$$\n",
    "\n",
    "where for D-T fussion, $E_c = 3.5\\,{\\rm MeV}$ and $\\left<\\sigma v \\right> = 10^{-16}\\,{\\rm cm^3\\, s^{-1}}$(From Figure 12.1 in our text book.)\n",
    "\n",
    "Thus \n",
    "$$\n",
    "n = \\frac{12}{E_c \\tau} \\frac{k_B T}{\\left<\\sigma v \\right> }\n",
    "$$"
   ]
  },
  {
   "cell_type": "code",
   "execution_count": 12,
   "metadata": {},
   "outputs": [
    {
     "data": {
      "text/latex": [
       "$1.1428571 \\times 10^{20} \\; \\mathrm{\\frac{1}{m^{3}}}$"
      ],
      "text/plain": [
       "<Quantity 1.14285714e+20 1 / m3>"
      ]
     },
     "execution_count": 12,
     "metadata": {},
     "output_type": "execute_result"
    }
   ],
   "source": [
    "kbT = 10*u.keV\n",
    "Ec = 3.5*u.MeV\n",
    "sigv = 1e-16*u.cm**3*u.s**(-1)\n",
    "tau = 3*u.s\n",
    "\n",
    "n = (12/(Ec*tau)*kbT/sigv).si\n",
    "n"
   ]
  },
  {
   "cell_type": "markdown",
   "metadata": {},
   "source": [
    "With the help of these codes, we get that\n",
    "$$\n",
    "n = 1.43 \\times 10^{20} \\,{\\rm m^{-3}}\n",
    "$$\n",
    "<!-- \n",
    "Thus $n_e = n_i = 1.43 \\times 10^{20} \\,{\\rm m^{-3}}$, the reaction rate is\n",
    "\n",
    "$$\n",
    "R = n_e n_i\\left<\\sigma v \\right> \n",
    "$$ -->"
   ]
  },
  {
   "cell_type": "markdown",
   "metadata": {},
   "source": [
    "The reaction rate is $R = n_1n_2\\left<\\sigma v \\right>$, where $n_1 = n_2 = n/2$ for D-T fussion. And the reaction rate per particle is $\\frac Rn$."
   ]
  },
  {
   "cell_type": "code",
   "execution_count": 13,
   "metadata": {},
   "outputs": [
    {
     "data": {
      "text/latex": [
       "$0.0028571429 \\; \\mathrm{\\frac{1}{s}}$"
      ],
      "text/plain": [
       "<Quantity 0.00285714 1 / s>"
      ]
     },
     "execution_count": 13,
     "metadata": {},
     "output_type": "execute_result"
    }
   ],
   "source": [
    "R = ((n/2)**2 *sigv).si\n",
    "r = R/n\n",
    "r"
   ]
  },
  {
   "cell_type": "markdown",
   "metadata": {},
   "source": [
    "So raction rate per particle is $2.86\\times10^{3}\\,{\\rm s^{-1}}$."
   ]
  }
 ],
 "metadata": {
  "kernelspec": {
   "display_name": "nuclei",
   "language": "python",
   "name": "python3"
  },
  "language_info": {
   "codemirror_mode": {
    "name": "ipython",
    "version": 3
   },
   "file_extension": ".py",
   "mimetype": "text/x-python",
   "name": "python",
   "nbconvert_exporter": "python",
   "pygments_lexer": "ipython3",
   "version": "3.12.2"
  }
 },
 "nbformat": 4,
 "nbformat_minor": 2
}
