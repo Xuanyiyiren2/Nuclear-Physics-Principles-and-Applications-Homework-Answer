{
 "cells": [
  {
   "cell_type": "code",
   "execution_count": 1,
   "metadata": {},
   "outputs": [],
   "source": [
    "import astropy.units as u\n",
    "import astropy.constants as const\n",
    "import numpy as np\n",
    "\n",
    "# Use to obtain data\n",
    "import pandas as pd\n",
    "import urllib\n",
    "# the service URL\n",
    "livechart = \"https://nds.iaea.org/relnsd/v1/data?\"\n",
    "\n",
    "# There have been cases in which the service returns an HTTP Error 403: Forbidden\n",
    "# use this workaround\n",
    "import urllib.request\n",
    "def lc_pd_dataframe(url):\n",
    "    req = urllib.request.Request(url)\n",
    "    req.add_header('User-Agent', 'Mozilla/5.0 (X11; Ubuntu; Linux x86_64; rv:77.0) Gecko/20100101 Firefox/77.0')\n",
    "    return pd.read_csv(urllib.request.urlopen(req))"
   ]
  },
  {
   "cell_type": "code",
   "execution_count": 2,
   "metadata": {},
   "outputs": [
    {
     "data": {
      "text/html": [
       "<div>\n",
       "<style scoped>\n",
       "    .dataframe tbody tr th:only-of-type {\n",
       "        vertical-align: middle;\n",
       "    }\n",
       "\n",
       "    .dataframe tbody tr th {\n",
       "        vertical-align: top;\n",
       "    }\n",
       "\n",
       "    .dataframe thead th {\n",
       "        text-align: right;\n",
       "    }\n",
       "</style>\n",
       "<table border=\"1\" class=\"dataframe\">\n",
       "  <thead>\n",
       "    <tr style=\"text-align: right;\">\n",
       "      <th></th>\n",
       "      <th>z</th>\n",
       "      <th>n</th>\n",
       "      <th>symbol</th>\n",
       "      <th>radius</th>\n",
       "      <th>unc_r</th>\n",
       "      <th>abundance</th>\n",
       "      <th>unc_a</th>\n",
       "      <th>energy_shift</th>\n",
       "      <th>energy</th>\n",
       "      <th>unc_e</th>\n",
       "      <th>...</th>\n",
       "      <th>unc_ba</th>\n",
       "      <th>atomic_mass</th>\n",
       "      <th>unc_am</th>\n",
       "      <th>massexcess</th>\n",
       "      <th>unc_me</th>\n",
       "      <th>me_systematics</th>\n",
       "      <th>discovery</th>\n",
       "      <th>ENSDFpublicationcut-off</th>\n",
       "      <th>ENSDFauthors</th>\n",
       "      <th>Extraction_date</th>\n",
       "    </tr>\n",
       "  </thead>\n",
       "  <tbody>\n",
       "    <tr>\n",
       "      <th>0</th>\n",
       "      <td>92</td>\n",
       "      <td>143</td>\n",
       "      <td>U</td>\n",
       "      <td>5.8337</td>\n",
       "      <td>0.0041</td>\n",
       "      <td>0.7204</td>\n",
       "      <td>0.0006</td>\n",
       "      <td>NaN</td>\n",
       "      <td>0</td>\n",
       "      <td>NaN</td>\n",
       "      <td>...</td>\n",
       "      <td>0.0048</td>\n",
       "      <td>2.350439e+08</td>\n",
       "      <td>1.198</td>\n",
       "      <td>40918.782</td>\n",
       "      <td>1.116</td>\n",
       "      <td>N</td>\n",
       "      <td>1935</td>\n",
       "      <td>1-Feb-2014</td>\n",
       "      <td>E. BROWNE and  J. K. TULI</td>\n",
       "      <td>2024-05-29</td>\n",
       "    </tr>\n",
       "  </tbody>\n",
       "</table>\n",
       "<p>1 rows × 55 columns</p>\n",
       "</div>"
      ],
      "text/plain": [
       "    z    n symbol  radius   unc_r  abundance   unc_a  energy_shift  energy  \\\n",
       "0  92  143      U  5.8337  0.0041     0.7204  0.0006           NaN       0   \n",
       "\n",
       "   unc_e  ...  unc_ba   atomic_mass  unc_am  massexcess  unc_me  \\\n",
       "0    NaN  ...  0.0048  2.350439e+08   1.198   40918.782   1.116   \n",
       "\n",
       "  me_systematics  discovery  ENSDFpublicationcut-off  \\\n",
       "0              N       1935               1-Feb-2014   \n",
       "\n",
       "                ENSDFauthors  Extraction_date  \n",
       "0  E. BROWNE and  J. K. TULI       2024-05-29  \n",
       "\n",
       "[1 rows x 55 columns]"
      ]
     },
     "execution_count": 2,
     "metadata": {},
     "output_type": "execute_result"
    }
   ],
   "source": [
    "# Example\n",
    "df=lc_pd_dataframe(livechart+\"fields=ground_states&nuclides=235U\")\n",
    "df"
   ]
  },
  {
   "cell_type": "markdown",
   "metadata": {},
   "source": [
    "## Question 1\n",
    "\n",
    "Assume ${\\rm ^{235}U}$ splits into two fragments with masses $100$ and $132$ and three neutrons. Find the masses of stable nuclides with these masses. What is the fission energy released by the fission of $1.0\\,{\\rm kg}$ of ${\\rm ^{235}U}$?"
   ]
  },
  {
   "cell_type": "markdown",
   "metadata": {},
   "source": [
    "### Answer\n",
    "\n",
    "Through data from [Live Chart of Nuclides](https://www-nds.iaea.org/relnsd/vcharthtml/VChartHTML.html), we can see that The stable nuclide with mass $100$ is ${\\rm ^{100}_{ ~~44} Ru}$ and the stable nucilde with mass $132$ is ${\\rm ^{132}_{ ~~54} Xe}$.\n",
    "\n",
    "So the fission process is\n",
    "\n",
    "$$\n",
    "^{235}_{~~92}\\!{\\rm U} \\to ^{100}_{ ~~44}\\!{\\rm Ru} + ^{132}_{ ~~54}\\!{\\rm Xe} + 3n +6e\n",
    "$$\n",
    "\n",
    "The energy of the fission process is\n",
    "\n",
    "$$\n",
    "\\Delta E = m_{\\rm ^{235}U} - m_{\\rm ^{100}Ru} - m_{\\rm ^{132}Xe} - 3m_n - 6m_e\n",
    "$$"
   ]
  },
  {
   "cell_type": "code",
   "execution_count": 17,
   "metadata": {},
   "outputs": [],
   "source": [
    "m_235U = lc_pd_dataframe(livechart+\"fields=ground_states&nuclides=235U\")['atomic_mass'][0]*1e-6*u.u\n",
    "m_100Ru = lc_pd_dataframe(livechart+\"fields=ground_states&nuclides=100Ru\")['atomic_mass'][0]*1e-6*u.u\n",
    "m_132Xe = lc_pd_dataframe(livechart+\"fields=ground_states&nuclides=132Xe\")['atomic_mass'][0]*1e-6*u.u\n",
    "m_n = lc_pd_dataframe(livechart+\"fields=ground_states&nuclides=1n\")['atomic_mass'][0]*1e-6*u.u\n",
    "m_e = (const.m_e).to('u')"
   ]
  },
  {
   "cell_type": "code",
   "execution_count": 28,
   "metadata": {},
   "outputs": [
    {
     "data": {
      "text/latex": [
       "$192.1452 \\; \\mathrm{MeV}$"
      ],
      "text/plain": [
       "<Quantity 192.14520013 MeV>"
      ]
     },
     "execution_count": 28,
     "metadata": {},
     "output_type": "execute_result"
    }
   ],
   "source": [
    "Delta_m = m_235U - (6*m_e + 3*m_n + m_100Ru + m_132Xe)\n",
    "Delta_E = (Delta_m*const.c**2).to(\"MeV\")\n",
    "Delta_E"
   ]
  },
  {
   "cell_type": "markdown",
   "metadata": {},
   "source": [
    "Thus the energy released per reaction is $\\Delta E = 192\\,{\\rm MeV}$. By the fission of $1.0\\,{\\rm kg}$ of ${\\rm ^{235}\\!U}$, the number of fission reaction is $N$ where\n",
    "\n",
    "$$\n",
    "N = \\frac{ \\rm 1.0\\,kg}{m_{\\rm ^{235}\\!U}}\n",
    "$$"
   ]
  },
  {
   "cell_type": "code",
   "execution_count": 33,
   "metadata": {},
   "outputs": [
    {
     "data": {
      "text/latex": [
       "$2.5621342 \\times 10^{24} \\; \\mathrm{}$"
      ],
      "text/plain": [
       "<Quantity 2.56213416e+24>"
      ]
     },
     "execution_count": 33,
     "metadata": {},
     "output_type": "execute_result"
    }
   ],
   "source": [
    "N = (1*u.kg/m_235U).to(' ') # Dimensionless\n",
    "N"
   ]
  },
  {
   "cell_type": "markdown",
   "metadata": {},
   "source": [
    "Thus $N = 2.56\\times 10^{24}$, the energy released is $E = N\\cdot \\Delta E$"
   ]
  },
  {
   "cell_type": "code",
   "execution_count": 38,
   "metadata": {},
   "outputs": [
    {
     "data": {
      "text/latex": [
       "$7.8875441 \\times 10^{13} \\; \\mathrm{J}$"
      ],
      "text/plain": [
       "<Quantity 7.88754409e+13 J>"
      ]
     },
     "execution_count": 38,
     "metadata": {},
     "output_type": "execute_result"
    }
   ],
   "source": [
    "E = (N*Delta_E).to('J')\n",
    "E"
   ]
  },
  {
   "cell_type": "markdown",
   "metadata": {},
   "source": [
    "Thus the energy released by $1.0 \\,{\\rm kg}$ of ${\\rm ^{235}U}$ through this reaction is $7.89\\times 10^{13}\\,{\\rm J}$."
   ]
  },
  {
   "cell_type": "markdown",
   "metadata": {},
   "source": [
    "## Question 2\n",
    "\n",
    "If a natural uranium, thermal fission reactor is operating at a thermal power output level of $\\rm 2\\,GW$. Calculate the total rate of consumption of $\\rm ^{235}U$(in $\\rm kg\\cdot yr^{-1}$). Take the energy release per fission to be $E = {\\rm 200\\,MeV}$."
   ]
  },
  {
   "cell_type": "markdown",
   "metadata": {},
   "source": [
    "### Answer\n",
    "\n",
    "The power of the reactor is $W = 2\\,\\rm{GW}$ and the energy realsed per fission is $E = 200\\,{\\rm MeV}$. Thus there are $n$ times of fissions per second.\n",
    "\n",
    "$$\n",
    "n = \\frac{W}{E}\n",
    "$$"
   ]
  },
  {
   "cell_type": "code",
   "execution_count": 10,
   "metadata": {},
   "outputs": [
    {
     "data": {
      "text/latex": [
       "$6.2415091 \\times 10^{19} \\; \\mathrm{\\frac{1}{s}}$"
      ],
      "text/plain": [
       "<Quantity 6.24150907e+19 1 / s>"
      ]
     },
     "execution_count": 10,
     "metadata": {},
     "output_type": "execute_result"
    }
   ],
   "source": [
    "W = 2*u.GW\n",
    "E = 200*u.MeV\n",
    "n = (W/E).si\n",
    "n"
   ]
  },
  {
   "cell_type": "markdown",
   "metadata": {},
   "source": [
    "Thus $n = 6.241\\times 10^{19} \\,{\\rm s^{-1}}$.\n",
    "\n",
    "So the consumption rate of the number of $\\rm ^{235}U$ is $n$. The comsumption rate of the mass of $\\rm ^{238}U$ is $n\\cdot m_{\\rm ^{235}U}$ where $m_{\\rm ^{235}U}$ is the atomic mass of $\\rm ^{235}U$."
   ]
  },
  {
   "cell_type": "code",
   "execution_count": 15,
   "metadata": {},
   "outputs": [
    {
     "data": {
      "text/latex": [
       "$768.61797 \\; \\mathrm{\\frac{kg}{yr}}$"
      ],
      "text/plain": [
       "<Quantity 768.61796858 kg / yr>"
      ]
     },
     "execution_count": 15,
     "metadata": {},
     "output_type": "execute_result"
    }
   ],
   "source": [
    "R = n*(235*u.u)\n",
    "R.to('kg/yr')"
   ]
  },
  {
   "cell_type": "markdown",
   "metadata": {},
   "source": [
    "So the consumption rate is\n",
    "$$\n",
    "R = 768\\,{\\rm kg/yr}\n",
    "$$"
   ]
  },
  {
   "cell_type": "markdown",
   "metadata": {},
   "source": [
    "## Question 3\n",
    "\n",
    "What is the meaning of delayed neutrons? What is the importance of delayed neutrons in a nuclear reactor?"
   ]
  },
  {
   "cell_type": "markdown",
   "metadata": {},
   "source": [
    "### Answer\n",
    "\n",
    "Some neutrons produced in fission are delayed by some time as they are produced in subsequent decays of the initial fission fragments. These are called delayed neutrons. \n",
    "\n",
    "This situation is crucial to mechanical control of the reactor. If all the fission neutrons were produced instantly in fission, there would be no time for the minute adjustment required in a reactor to keep it critical."
   ]
  },
  {
   "cell_type": "markdown",
   "metadata": {},
   "source": [
    "## Question 4\n",
    "\n",
    "Describe some design features of a pressurized water reactor."
   ]
  },
  {
   "cell_type": "markdown",
   "metadata": {},
   "source": [
    "### Answer (Accroding to [https://www.mhi.com/products/energy/light_water_reactor_plant_features.html](https://www.mhi.com/products/energy/light_water_reactor_plant_features.html))\n",
    "\n",
    "The basic design concept of the PWR nuclear power plant is simple: pressurized water is used as the reactor coolant and the reactor and turbine systems are separated by steam generators to constitute an indirect cycle system. The outstanding features of this system are shown in the following:\n",
    "\n",
    "- The higher moderator density makes it possible to minimize the fuel rod pitch and enable a compact reactor core design.\n",
    "- The absence of bulk boiling in the core limits cladding corrosion and thereby increases the fuel reliability.\n",
    "The open-lattice fuel assembly design contributes to the economical use of neutrons and results in excellent fuel economy.\n",
    "- The self-control mechanisms are inherent, and a safe shutdown capability is ensured by gravity insertion of control rods in an emergency.\n",
    "- The plant generates an extremely low quantity of radioactive substance.\n",
    "- The reactor and turbine systems are separated by steam generators; therefore, the turbine system design of the combustion power plant grade is feasible and thereby it can be easily operated and maintained.\n",
    "- The core cooling with heat-removal capability of the secondary system ensures inherent reactor safety in an emergency.\n",
    "- The lower center-of-gravity plant design favors seismic resistance.\n",
    "\n",
    "As shown above, since the PWR nuclear power plant enables to design its facilities compactly as a whole plant and provides superior fuel economy, thus enables to sufficiently respond to any needs of nuclear power plants such as inexpensive generation root and excellent operability."
   ]
  }
 ],
 "metadata": {
  "kernelspec": {
   "display_name": "nuclei",
   "language": "python",
   "name": "python3"
  },
  "language_info": {
   "codemirror_mode": {
    "name": "ipython",
    "version": 3
   },
   "file_extension": ".py",
   "mimetype": "text/x-python",
   "name": "python",
   "nbconvert_exporter": "python",
   "pygments_lexer": "ipython3",
   "version": "3.12.2"
  }
 },
 "nbformat": 4,
 "nbformat_minor": 2
}
